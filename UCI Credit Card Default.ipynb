{
 "cells": [
  {
   "cell_type": "markdown",
   "metadata": {},
   "source": [
    "# UCI Credit Card Default Dataset"
   ]
  },
  {
   "cell_type": "code",
   "execution_count": 1,
   "metadata": {},
   "outputs": [],
   "source": [
    "# Importing relevant libraries\n",
    "import pandas as pd\n",
    "import numpy as np\n",
    "import matplotlib.pyplot as plt\n",
    "import seaborn as sns"
   ]
  },
  {
   "cell_type": "code",
   "execution_count": 2,
   "metadata": {},
   "outputs": [
    {
     "data": {
      "text/html": [
       "<div>\n",
       "<style scoped>\n",
       "    .dataframe tbody tr th:only-of-type {\n",
       "        vertical-align: middle;\n",
       "    }\n",
       "\n",
       "    .dataframe tbody tr th {\n",
       "        vertical-align: top;\n",
       "    }\n",
       "\n",
       "    .dataframe thead th {\n",
       "        text-align: right;\n",
       "    }\n",
       "</style>\n",
       "<table border=\"1\" class=\"dataframe\">\n",
       "  <thead>\n",
       "    <tr style=\"text-align: right;\">\n",
       "      <th></th>\n",
       "      <th>ID</th>\n",
       "      <th>LIMIT_BAL</th>\n",
       "      <th>SEX</th>\n",
       "      <th>EDUCATION</th>\n",
       "      <th>MARRIAGE</th>\n",
       "      <th>AGE</th>\n",
       "      <th>PAY_0</th>\n",
       "      <th>PAY_2</th>\n",
       "      <th>PAY_3</th>\n",
       "      <th>PAY_4</th>\n",
       "      <th>...</th>\n",
       "      <th>BILL_AMT4</th>\n",
       "      <th>BILL_AMT5</th>\n",
       "      <th>BILL_AMT6</th>\n",
       "      <th>PAY_AMT1</th>\n",
       "      <th>PAY_AMT2</th>\n",
       "      <th>PAY_AMT3</th>\n",
       "      <th>PAY_AMT4</th>\n",
       "      <th>PAY_AMT5</th>\n",
       "      <th>PAY_AMT6</th>\n",
       "      <th>default.payment.next.month</th>\n",
       "    </tr>\n",
       "  </thead>\n",
       "  <tbody>\n",
       "    <tr>\n",
       "      <th>0</th>\n",
       "      <td>1</td>\n",
       "      <td>20000.0</td>\n",
       "      <td>2</td>\n",
       "      <td>2</td>\n",
       "      <td>1</td>\n",
       "      <td>24</td>\n",
       "      <td>2</td>\n",
       "      <td>2</td>\n",
       "      <td>-1</td>\n",
       "      <td>-1</td>\n",
       "      <td>...</td>\n",
       "      <td>0.0</td>\n",
       "      <td>0.0</td>\n",
       "      <td>0.0</td>\n",
       "      <td>0.0</td>\n",
       "      <td>689.0</td>\n",
       "      <td>0.0</td>\n",
       "      <td>0.0</td>\n",
       "      <td>0.0</td>\n",
       "      <td>0.0</td>\n",
       "      <td>1</td>\n",
       "    </tr>\n",
       "    <tr>\n",
       "      <th>1</th>\n",
       "      <td>2</td>\n",
       "      <td>120000.0</td>\n",
       "      <td>2</td>\n",
       "      <td>2</td>\n",
       "      <td>2</td>\n",
       "      <td>26</td>\n",
       "      <td>-1</td>\n",
       "      <td>2</td>\n",
       "      <td>0</td>\n",
       "      <td>0</td>\n",
       "      <td>...</td>\n",
       "      <td>3272.0</td>\n",
       "      <td>3455.0</td>\n",
       "      <td>3261.0</td>\n",
       "      <td>0.0</td>\n",
       "      <td>1000.0</td>\n",
       "      <td>1000.0</td>\n",
       "      <td>1000.0</td>\n",
       "      <td>0.0</td>\n",
       "      <td>2000.0</td>\n",
       "      <td>1</td>\n",
       "    </tr>\n",
       "    <tr>\n",
       "      <th>2</th>\n",
       "      <td>3</td>\n",
       "      <td>90000.0</td>\n",
       "      <td>2</td>\n",
       "      <td>2</td>\n",
       "      <td>2</td>\n",
       "      <td>34</td>\n",
       "      <td>0</td>\n",
       "      <td>0</td>\n",
       "      <td>0</td>\n",
       "      <td>0</td>\n",
       "      <td>...</td>\n",
       "      <td>14331.0</td>\n",
       "      <td>14948.0</td>\n",
       "      <td>15549.0</td>\n",
       "      <td>1518.0</td>\n",
       "      <td>1500.0</td>\n",
       "      <td>1000.0</td>\n",
       "      <td>1000.0</td>\n",
       "      <td>1000.0</td>\n",
       "      <td>5000.0</td>\n",
       "      <td>0</td>\n",
       "    </tr>\n",
       "    <tr>\n",
       "      <th>3</th>\n",
       "      <td>4</td>\n",
       "      <td>50000.0</td>\n",
       "      <td>2</td>\n",
       "      <td>2</td>\n",
       "      <td>1</td>\n",
       "      <td>37</td>\n",
       "      <td>0</td>\n",
       "      <td>0</td>\n",
       "      <td>0</td>\n",
       "      <td>0</td>\n",
       "      <td>...</td>\n",
       "      <td>28314.0</td>\n",
       "      <td>28959.0</td>\n",
       "      <td>29547.0</td>\n",
       "      <td>2000.0</td>\n",
       "      <td>2019.0</td>\n",
       "      <td>1200.0</td>\n",
       "      <td>1100.0</td>\n",
       "      <td>1069.0</td>\n",
       "      <td>1000.0</td>\n",
       "      <td>0</td>\n",
       "    </tr>\n",
       "    <tr>\n",
       "      <th>4</th>\n",
       "      <td>5</td>\n",
       "      <td>50000.0</td>\n",
       "      <td>1</td>\n",
       "      <td>2</td>\n",
       "      <td>1</td>\n",
       "      <td>57</td>\n",
       "      <td>-1</td>\n",
       "      <td>0</td>\n",
       "      <td>-1</td>\n",
       "      <td>0</td>\n",
       "      <td>...</td>\n",
       "      <td>20940.0</td>\n",
       "      <td>19146.0</td>\n",
       "      <td>19131.0</td>\n",
       "      <td>2000.0</td>\n",
       "      <td>36681.0</td>\n",
       "      <td>10000.0</td>\n",
       "      <td>9000.0</td>\n",
       "      <td>689.0</td>\n",
       "      <td>679.0</td>\n",
       "      <td>0</td>\n",
       "    </tr>\n",
       "  </tbody>\n",
       "</table>\n",
       "<p>5 rows × 25 columns</p>\n",
       "</div>"
      ],
      "text/plain": [
       "   ID  LIMIT_BAL  SEX  EDUCATION  MARRIAGE  AGE  PAY_0  PAY_2  PAY_3  PAY_4  \\\n",
       "0   1    20000.0    2          2         1   24      2      2     -1     -1   \n",
       "1   2   120000.0    2          2         2   26     -1      2      0      0   \n",
       "2   3    90000.0    2          2         2   34      0      0      0      0   \n",
       "3   4    50000.0    2          2         1   37      0      0      0      0   \n",
       "4   5    50000.0    1          2         1   57     -1      0     -1      0   \n",
       "\n",
       "   ...  BILL_AMT4  BILL_AMT5  BILL_AMT6  PAY_AMT1  PAY_AMT2  PAY_AMT3  \\\n",
       "0  ...        0.0        0.0        0.0       0.0     689.0       0.0   \n",
       "1  ...     3272.0     3455.0     3261.0       0.0    1000.0    1000.0   \n",
       "2  ...    14331.0    14948.0    15549.0    1518.0    1500.0    1000.0   \n",
       "3  ...    28314.0    28959.0    29547.0    2000.0    2019.0    1200.0   \n",
       "4  ...    20940.0    19146.0    19131.0    2000.0   36681.0   10000.0   \n",
       "\n",
       "   PAY_AMT4  PAY_AMT5  PAY_AMT6  default.payment.next.month  \n",
       "0       0.0       0.0       0.0                           1  \n",
       "1    1000.0       0.0    2000.0                           1  \n",
       "2    1000.0    1000.0    5000.0                           0  \n",
       "3    1100.0    1069.0    1000.0                           0  \n",
       "4    9000.0     689.0     679.0                           0  \n",
       "\n",
       "[5 rows x 25 columns]"
      ]
     },
     "execution_count": 2,
     "metadata": {},
     "output_type": "execute_result"
    }
   ],
   "source": [
    "df = pd.read_csv('UCI_Credit_Card.csv')\n",
    "df.head()"
   ]
  },
  {
   "cell_type": "code",
   "execution_count": 3,
   "metadata": {},
   "outputs": [
    {
     "data": {
      "text/plain": [
       "ID                            0\n",
       "LIMIT_BAL                     0\n",
       "SEX                           0\n",
       "EDUCATION                     0\n",
       "MARRIAGE                      0\n",
       "AGE                           0\n",
       "PAY_0                         0\n",
       "PAY_2                         0\n",
       "PAY_3                         0\n",
       "PAY_4                         0\n",
       "PAY_5                         0\n",
       "PAY_6                         0\n",
       "BILL_AMT1                     0\n",
       "BILL_AMT2                     0\n",
       "BILL_AMT3                     0\n",
       "BILL_AMT4                     0\n",
       "BILL_AMT5                     0\n",
       "BILL_AMT6                     0\n",
       "PAY_AMT1                      0\n",
       "PAY_AMT2                      0\n",
       "PAY_AMT3                      0\n",
       "PAY_AMT4                      0\n",
       "PAY_AMT5                      0\n",
       "PAY_AMT6                      0\n",
       "default.payment.next.month    0\n",
       "dtype: int64"
      ]
     },
     "execution_count": 3,
     "metadata": {},
     "output_type": "execute_result"
    }
   ],
   "source": [
    "# Let us first check for null values\n",
    "df.isnull().sum()"
   ]
  },
  {
   "cell_type": "markdown",
   "metadata": {},
   "source": [
    "# Fortunately this dataset does not contain null values"
   ]
  },
  {
   "cell_type": "code",
   "execution_count": 4,
   "metadata": {},
   "outputs": [
    {
     "name": "stdout",
     "output_type": "stream",
     "text": [
      "<class 'pandas.core.frame.DataFrame'>\n",
      "RangeIndex: 30000 entries, 0 to 29999\n",
      "Data columns (total 25 columns):\n",
      " #   Column                      Non-Null Count  Dtype  \n",
      "---  ------                      --------------  -----  \n",
      " 0   ID                          30000 non-null  int64  \n",
      " 1   LIMIT_BAL                   30000 non-null  float64\n",
      " 2   SEX                         30000 non-null  int64  \n",
      " 3   EDUCATION                   30000 non-null  int64  \n",
      " 4   MARRIAGE                    30000 non-null  int64  \n",
      " 5   AGE                         30000 non-null  int64  \n",
      " 6   PAY_0                       30000 non-null  int64  \n",
      " 7   PAY_2                       30000 non-null  int64  \n",
      " 8   PAY_3                       30000 non-null  int64  \n",
      " 9   PAY_4                       30000 non-null  int64  \n",
      " 10  PAY_5                       30000 non-null  int64  \n",
      " 11  PAY_6                       30000 non-null  int64  \n",
      " 12  BILL_AMT1                   30000 non-null  float64\n",
      " 13  BILL_AMT2                   30000 non-null  float64\n",
      " 14  BILL_AMT3                   30000 non-null  float64\n",
      " 15  BILL_AMT4                   30000 non-null  float64\n",
      " 16  BILL_AMT5                   30000 non-null  float64\n",
      " 17  BILL_AMT6                   30000 non-null  float64\n",
      " 18  PAY_AMT1                    30000 non-null  float64\n",
      " 19  PAY_AMT2                    30000 non-null  float64\n",
      " 20  PAY_AMT3                    30000 non-null  float64\n",
      " 21  PAY_AMT4                    30000 non-null  float64\n",
      " 22  PAY_AMT5                    30000 non-null  float64\n",
      " 23  PAY_AMT6                    30000 non-null  float64\n",
      " 24  default.payment.next.month  30000 non-null  int64  \n",
      "dtypes: float64(13), int64(12)\n",
      "memory usage: 5.7 MB\n"
     ]
    }
   ],
   "source": [
    "# Now let us study the dataset a little bit\n",
    "df.info()"
   ]
  },
  {
   "cell_type": "code",
   "execution_count": 5,
   "metadata": {},
   "outputs": [
    {
     "data": {
      "text/html": [
       "<div>\n",
       "<style scoped>\n",
       "    .dataframe tbody tr th:only-of-type {\n",
       "        vertical-align: middle;\n",
       "    }\n",
       "\n",
       "    .dataframe tbody tr th {\n",
       "        vertical-align: top;\n",
       "    }\n",
       "\n",
       "    .dataframe thead th {\n",
       "        text-align: right;\n",
       "    }\n",
       "</style>\n",
       "<table border=\"1\" class=\"dataframe\">\n",
       "  <thead>\n",
       "    <tr style=\"text-align: right;\">\n",
       "      <th></th>\n",
       "      <th>ID</th>\n",
       "      <th>LIMIT_BAL</th>\n",
       "      <th>SEX</th>\n",
       "      <th>EDUCATION</th>\n",
       "      <th>MARRIAGE</th>\n",
       "      <th>AGE</th>\n",
       "      <th>PAY_0</th>\n",
       "      <th>PAY_2</th>\n",
       "      <th>PAY_3</th>\n",
       "      <th>PAY_4</th>\n",
       "      <th>...</th>\n",
       "      <th>BILL_AMT4</th>\n",
       "      <th>BILL_AMT5</th>\n",
       "      <th>BILL_AMT6</th>\n",
       "      <th>PAY_AMT1</th>\n",
       "      <th>PAY_AMT2</th>\n",
       "      <th>PAY_AMT3</th>\n",
       "      <th>PAY_AMT4</th>\n",
       "      <th>PAY_AMT5</th>\n",
       "      <th>PAY_AMT6</th>\n",
       "      <th>default.payment.next.month</th>\n",
       "    </tr>\n",
       "  </thead>\n",
       "  <tbody>\n",
       "    <tr>\n",
       "      <th>count</th>\n",
       "      <td>30000.000000</td>\n",
       "      <td>30000.000000</td>\n",
       "      <td>30000.000000</td>\n",
       "      <td>30000.000000</td>\n",
       "      <td>30000.000000</td>\n",
       "      <td>30000.000000</td>\n",
       "      <td>30000.000000</td>\n",
       "      <td>30000.000000</td>\n",
       "      <td>30000.000000</td>\n",
       "      <td>30000.000000</td>\n",
       "      <td>...</td>\n",
       "      <td>30000.000000</td>\n",
       "      <td>30000.000000</td>\n",
       "      <td>30000.000000</td>\n",
       "      <td>30000.000000</td>\n",
       "      <td>3.000000e+04</td>\n",
       "      <td>30000.00000</td>\n",
       "      <td>30000.000000</td>\n",
       "      <td>30000.000000</td>\n",
       "      <td>30000.000000</td>\n",
       "      <td>30000.000000</td>\n",
       "    </tr>\n",
       "    <tr>\n",
       "      <th>mean</th>\n",
       "      <td>15000.500000</td>\n",
       "      <td>167484.322667</td>\n",
       "      <td>1.603733</td>\n",
       "      <td>1.853133</td>\n",
       "      <td>1.551867</td>\n",
       "      <td>35.485500</td>\n",
       "      <td>-0.016700</td>\n",
       "      <td>-0.133767</td>\n",
       "      <td>-0.166200</td>\n",
       "      <td>-0.220667</td>\n",
       "      <td>...</td>\n",
       "      <td>43262.948967</td>\n",
       "      <td>40311.400967</td>\n",
       "      <td>38871.760400</td>\n",
       "      <td>5663.580500</td>\n",
       "      <td>5.921163e+03</td>\n",
       "      <td>5225.68150</td>\n",
       "      <td>4826.076867</td>\n",
       "      <td>4799.387633</td>\n",
       "      <td>5215.502567</td>\n",
       "      <td>0.221200</td>\n",
       "    </tr>\n",
       "    <tr>\n",
       "      <th>std</th>\n",
       "      <td>8660.398374</td>\n",
       "      <td>129747.661567</td>\n",
       "      <td>0.489129</td>\n",
       "      <td>0.790349</td>\n",
       "      <td>0.521970</td>\n",
       "      <td>9.217904</td>\n",
       "      <td>1.123802</td>\n",
       "      <td>1.197186</td>\n",
       "      <td>1.196868</td>\n",
       "      <td>1.169139</td>\n",
       "      <td>...</td>\n",
       "      <td>64332.856134</td>\n",
       "      <td>60797.155770</td>\n",
       "      <td>59554.107537</td>\n",
       "      <td>16563.280354</td>\n",
       "      <td>2.304087e+04</td>\n",
       "      <td>17606.96147</td>\n",
       "      <td>15666.159744</td>\n",
       "      <td>15278.305679</td>\n",
       "      <td>17777.465775</td>\n",
       "      <td>0.415062</td>\n",
       "    </tr>\n",
       "    <tr>\n",
       "      <th>min</th>\n",
       "      <td>1.000000</td>\n",
       "      <td>10000.000000</td>\n",
       "      <td>1.000000</td>\n",
       "      <td>0.000000</td>\n",
       "      <td>0.000000</td>\n",
       "      <td>21.000000</td>\n",
       "      <td>-2.000000</td>\n",
       "      <td>-2.000000</td>\n",
       "      <td>-2.000000</td>\n",
       "      <td>-2.000000</td>\n",
       "      <td>...</td>\n",
       "      <td>-170000.000000</td>\n",
       "      <td>-81334.000000</td>\n",
       "      <td>-339603.000000</td>\n",
       "      <td>0.000000</td>\n",
       "      <td>0.000000e+00</td>\n",
       "      <td>0.00000</td>\n",
       "      <td>0.000000</td>\n",
       "      <td>0.000000</td>\n",
       "      <td>0.000000</td>\n",
       "      <td>0.000000</td>\n",
       "    </tr>\n",
       "    <tr>\n",
       "      <th>25%</th>\n",
       "      <td>7500.750000</td>\n",
       "      <td>50000.000000</td>\n",
       "      <td>1.000000</td>\n",
       "      <td>1.000000</td>\n",
       "      <td>1.000000</td>\n",
       "      <td>28.000000</td>\n",
       "      <td>-1.000000</td>\n",
       "      <td>-1.000000</td>\n",
       "      <td>-1.000000</td>\n",
       "      <td>-1.000000</td>\n",
       "      <td>...</td>\n",
       "      <td>2326.750000</td>\n",
       "      <td>1763.000000</td>\n",
       "      <td>1256.000000</td>\n",
       "      <td>1000.000000</td>\n",
       "      <td>8.330000e+02</td>\n",
       "      <td>390.00000</td>\n",
       "      <td>296.000000</td>\n",
       "      <td>252.500000</td>\n",
       "      <td>117.750000</td>\n",
       "      <td>0.000000</td>\n",
       "    </tr>\n",
       "    <tr>\n",
       "      <th>50%</th>\n",
       "      <td>15000.500000</td>\n",
       "      <td>140000.000000</td>\n",
       "      <td>2.000000</td>\n",
       "      <td>2.000000</td>\n",
       "      <td>2.000000</td>\n",
       "      <td>34.000000</td>\n",
       "      <td>0.000000</td>\n",
       "      <td>0.000000</td>\n",
       "      <td>0.000000</td>\n",
       "      <td>0.000000</td>\n",
       "      <td>...</td>\n",
       "      <td>19052.000000</td>\n",
       "      <td>18104.500000</td>\n",
       "      <td>17071.000000</td>\n",
       "      <td>2100.000000</td>\n",
       "      <td>2.009000e+03</td>\n",
       "      <td>1800.00000</td>\n",
       "      <td>1500.000000</td>\n",
       "      <td>1500.000000</td>\n",
       "      <td>1500.000000</td>\n",
       "      <td>0.000000</td>\n",
       "    </tr>\n",
       "    <tr>\n",
       "      <th>75%</th>\n",
       "      <td>22500.250000</td>\n",
       "      <td>240000.000000</td>\n",
       "      <td>2.000000</td>\n",
       "      <td>2.000000</td>\n",
       "      <td>2.000000</td>\n",
       "      <td>41.000000</td>\n",
       "      <td>0.000000</td>\n",
       "      <td>0.000000</td>\n",
       "      <td>0.000000</td>\n",
       "      <td>0.000000</td>\n",
       "      <td>...</td>\n",
       "      <td>54506.000000</td>\n",
       "      <td>50190.500000</td>\n",
       "      <td>49198.250000</td>\n",
       "      <td>5006.000000</td>\n",
       "      <td>5.000000e+03</td>\n",
       "      <td>4505.00000</td>\n",
       "      <td>4013.250000</td>\n",
       "      <td>4031.500000</td>\n",
       "      <td>4000.000000</td>\n",
       "      <td>0.000000</td>\n",
       "    </tr>\n",
       "    <tr>\n",
       "      <th>max</th>\n",
       "      <td>30000.000000</td>\n",
       "      <td>1000000.000000</td>\n",
       "      <td>2.000000</td>\n",
       "      <td>6.000000</td>\n",
       "      <td>3.000000</td>\n",
       "      <td>79.000000</td>\n",
       "      <td>8.000000</td>\n",
       "      <td>8.000000</td>\n",
       "      <td>8.000000</td>\n",
       "      <td>8.000000</td>\n",
       "      <td>...</td>\n",
       "      <td>891586.000000</td>\n",
       "      <td>927171.000000</td>\n",
       "      <td>961664.000000</td>\n",
       "      <td>873552.000000</td>\n",
       "      <td>1.684259e+06</td>\n",
       "      <td>896040.00000</td>\n",
       "      <td>621000.000000</td>\n",
       "      <td>426529.000000</td>\n",
       "      <td>528666.000000</td>\n",
       "      <td>1.000000</td>\n",
       "    </tr>\n",
       "  </tbody>\n",
       "</table>\n",
       "<p>8 rows × 25 columns</p>\n",
       "</div>"
      ],
      "text/plain": [
       "                 ID       LIMIT_BAL           SEX     EDUCATION      MARRIAGE  \\\n",
       "count  30000.000000    30000.000000  30000.000000  30000.000000  30000.000000   \n",
       "mean   15000.500000   167484.322667      1.603733      1.853133      1.551867   \n",
       "std     8660.398374   129747.661567      0.489129      0.790349      0.521970   \n",
       "min        1.000000    10000.000000      1.000000      0.000000      0.000000   \n",
       "25%     7500.750000    50000.000000      1.000000      1.000000      1.000000   \n",
       "50%    15000.500000   140000.000000      2.000000      2.000000      2.000000   \n",
       "75%    22500.250000   240000.000000      2.000000      2.000000      2.000000   \n",
       "max    30000.000000  1000000.000000      2.000000      6.000000      3.000000   \n",
       "\n",
       "                AGE         PAY_0         PAY_2         PAY_3         PAY_4  \\\n",
       "count  30000.000000  30000.000000  30000.000000  30000.000000  30000.000000   \n",
       "mean      35.485500     -0.016700     -0.133767     -0.166200     -0.220667   \n",
       "std        9.217904      1.123802      1.197186      1.196868      1.169139   \n",
       "min       21.000000     -2.000000     -2.000000     -2.000000     -2.000000   \n",
       "25%       28.000000     -1.000000     -1.000000     -1.000000     -1.000000   \n",
       "50%       34.000000      0.000000      0.000000      0.000000      0.000000   \n",
       "75%       41.000000      0.000000      0.000000      0.000000      0.000000   \n",
       "max       79.000000      8.000000      8.000000      8.000000      8.000000   \n",
       "\n",
       "       ...      BILL_AMT4      BILL_AMT5      BILL_AMT6       PAY_AMT1  \\\n",
       "count  ...   30000.000000   30000.000000   30000.000000   30000.000000   \n",
       "mean   ...   43262.948967   40311.400967   38871.760400    5663.580500   \n",
       "std    ...   64332.856134   60797.155770   59554.107537   16563.280354   \n",
       "min    ... -170000.000000  -81334.000000 -339603.000000       0.000000   \n",
       "25%    ...    2326.750000    1763.000000    1256.000000    1000.000000   \n",
       "50%    ...   19052.000000   18104.500000   17071.000000    2100.000000   \n",
       "75%    ...   54506.000000   50190.500000   49198.250000    5006.000000   \n",
       "max    ...  891586.000000  927171.000000  961664.000000  873552.000000   \n",
       "\n",
       "           PAY_AMT2      PAY_AMT3       PAY_AMT4       PAY_AMT5  \\\n",
       "count  3.000000e+04   30000.00000   30000.000000   30000.000000   \n",
       "mean   5.921163e+03    5225.68150    4826.076867    4799.387633   \n",
       "std    2.304087e+04   17606.96147   15666.159744   15278.305679   \n",
       "min    0.000000e+00       0.00000       0.000000       0.000000   \n",
       "25%    8.330000e+02     390.00000     296.000000     252.500000   \n",
       "50%    2.009000e+03    1800.00000    1500.000000    1500.000000   \n",
       "75%    5.000000e+03    4505.00000    4013.250000    4031.500000   \n",
       "max    1.684259e+06  896040.00000  621000.000000  426529.000000   \n",
       "\n",
       "            PAY_AMT6  default.payment.next.month  \n",
       "count   30000.000000                30000.000000  \n",
       "mean     5215.502567                    0.221200  \n",
       "std     17777.465775                    0.415062  \n",
       "min         0.000000                    0.000000  \n",
       "25%       117.750000                    0.000000  \n",
       "50%      1500.000000                    0.000000  \n",
       "75%      4000.000000                    0.000000  \n",
       "max    528666.000000                    1.000000  \n",
       "\n",
       "[8 rows x 25 columns]"
      ]
     },
     "execution_count": 5,
     "metadata": {},
     "output_type": "execute_result"
    }
   ],
   "source": [
    "# Let us now describe the dataset\n",
    "df.describe()"
   ]
  },
  {
   "cell_type": "markdown",
   "metadata": {},
   "source": [
    "As per the above Dataset we can see most people in this dataset are female since the mean of sex is close to 2 which corresponds to female.\n",
    "Average Limit Balance is 167484.322667 dollars with a standard deviation of 129747.661567 dollars. We shall find out the distribution later on.\n",
    "Most individuals in the dataset are either single or other category since the mean is more than 1.5 also. \n",
    "\n"
   ]
  },
  {
   "cell_type": "markdown",
   "metadata": {},
   "source": [
    "# EDA Time"
   ]
  },
  {
   "cell_type": "code",
   "execution_count": 6,
   "metadata": {},
   "outputs": [
    {
     "data": {
      "text/plain": [
       "<matplotlib.axes._subplots.AxesSubplot at 0x134b0827f08>"
      ]
     },
     "execution_count": 6,
     "metadata": {},
     "output_type": "execute_result"
    },
    {
     "data": {
      "image/png": "[encoded data removed]",
      "text/plain": [
       "<Figure size 432x288 with 1 Axes>"
      ]
     },
     "metadata": {
      "needs_background": "light"
     },
     "output_type": "display_data"
    }
   ],
   "source": [
    "# Limit Balance histogram\n",
    "df['LIMIT_BAL'].hist()"
   ]
  },
  {
   "cell_type": "code",
   "execution_count": 7,
   "metadata": {},
   "outputs": [
    {
     "data": {
      "text/plain": [
       "<matplotlib.axes._subplots.AxesSubplot at 0x134b0303508>"
      ]
     },
     "execution_count": 7,
     "metadata": {},
     "output_type": "execute_result"
    },
    {
     "data": {
      "image/png": "[encoded data removed]",
      "text/plain": [
       "<Figure size 432x288 with 1 Axes>"
      ]
     },
     "metadata": {
      "needs_background": "light"
     },
     "output_type": "display_data"
    }
   ],
   "source": [
    "# Boxplot of Income \n",
    "sns.boxplot(x='LIMIT_BAL', data=df)"
   ]
  },
  {
   "cell_type": "markdown",
   "metadata": {},
   "source": [
    "We can see most people have Limit Balance skewed to the right. with some outliers which we shall remove."
   ]
  },
  {
   "cell_type": "code",
   "execution_count": 8,
   "metadata": {},
   "outputs": [
    {
     "data": {
      "text/plain": [
       "<matplotlib.axes._subplots.AxesSubplot at 0x134b0378b08>"
      ]
     },
     "execution_count": 8,
     "metadata": {},
     "output_type": "execute_result"
    },
    {
     "data": {
      "image/png": "[encoded data removed]",
      "text/plain": [
       "<Figure size 432x288 with 1 Axes>"
      ]
     },
     "metadata": {
      "needs_background": "light"
     },
     "output_type": "display_data"
    }
   ],
   "source": [
    "# Countplot of gender\n",
    "sns.countplot(x='SEX', data=df)"
   ]
  },
  {
   "cell_type": "code",
   "execution_count": 9,
   "metadata": {},
   "outputs": [
    {
     "data": {
      "text/plain": [
       "<matplotlib.axes._subplots.AxesSubplot at 0x134b03ec408>"
      ]
     },
     "execution_count": 9,
     "metadata": {},
     "output_type": "execute_result"
    },
    {
     "data": {
      "image/png": "[encoded data removed]",
      "text/plain": [
       "<Figure size 432x288 with 1 Axes>"
      ]
     },
     "metadata": {
      "needs_background": "light"
     },
     "output_type": "display_data"
    }
   ],
   "source": [
    "# Marital Status-wise countplot\n",
    "sns.countplot(x='MARRIAGE', data=df)"
   ]
  },
  {
   "cell_type": "code",
   "execution_count": 10,
   "metadata": {},
   "outputs": [
    {
     "data": {
      "text/plain": [
       "2    15964\n",
       "1    13659\n",
       "3      323\n",
       "0       54\n",
       "Name: MARRIAGE, dtype: int64"
      ]
     },
     "execution_count": 10,
     "metadata": {},
     "output_type": "execute_result"
    }
   ],
   "source": [
    "df['MARRIAGE'].value_counts()"
   ]
  },
  {
   "cell_type": "code",
   "execution_count": 11,
   "metadata": {},
   "outputs": [],
   "source": [
    "# Since our dataset legend does not have any values in the legend for marriage in 0 category. So let us club values with 0 into others i.e 3.\n",
    "df.loc[df['MARRIAGE']==0,'MARRIAGE']=3"
   ]
  },
  {
   "cell_type": "code",
   "execution_count": 12,
   "metadata": {},
   "outputs": [
    {
     "data": {
      "text/plain": [
       "2    15964\n",
       "1    13659\n",
       "3      377\n",
       "Name: MARRIAGE, dtype: int64"
      ]
     },
     "execution_count": 12,
     "metadata": {},
     "output_type": "execute_result"
    }
   ],
   "source": [
    "# lET US CHECK IF OUR TRANSFORMATION WORKED\n",
    "df['MARRIAGE'].value_counts()"
   ]
  },
  {
   "cell_type": "code",
   "execution_count": 13,
   "metadata": {},
   "outputs": [
    {
     "data": {
      "text/plain": [
       "<matplotlib.axes._subplots.AxesSubplot at 0x134b045c348>"
      ]
     },
     "execution_count": 13,
     "metadata": {},
     "output_type": "execute_result"
    },
    {
     "data": {
      "image/png": "[encoded data removed]",
      "text/plain": [
       "<Figure size 432x288 with 1 Axes>"
      ]
     },
     "metadata": {
      "needs_background": "light"
     },
     "output_type": "display_data"
    }
   ],
   "source": [
    "# Let us see the distribution of Age\n",
    "df['AGE'].hist()"
   ]
  },
  {
   "cell_type": "markdown",
   "metadata": {},
   "source": [
    "Thus we can see most people in the dataset are under 45 with some outliers above 62 or so. We shall handle them too while handling outliers before preparing our model."
   ]
  },
  {
   "cell_type": "code",
   "execution_count": 14,
   "metadata": {},
   "outputs": [
    {
     "data": {
      "text/plain": [
       "<matplotlib.axes._subplots.AxesSubplot at 0x134b04fb488>"
      ]
     },
     "execution_count": 14,
     "metadata": {},
     "output_type": "execute_result"
    },
    {
     "data": {
      "image/png": "[encoded data removed]",
      "text/plain": [
       "<Figure size 432x288 with 1 Axes>"
      ]
     },
     "metadata": {
      "needs_background": "light"
     },
     "output_type": "display_data"
    }
   ],
   "source": [
    "# Boxplot of Age column\n",
    "sns.boxplot(y='AGE', data=df)"
   ]
  },
  {
   "cell_type": "code",
   "execution_count": 15,
   "metadata": {},
   "outputs": [
    {
     "data": {
      "text/plain": [
       "<matplotlib.axes._subplots.AxesSubplot at 0x134b055c7c8>"
      ]
     },
     "execution_count": 15,
     "metadata": {},
     "output_type": "execute_result"
    },
    {
     "data": {
      "image/png": "[encoded data removed]",
      "text/plain": [
       "<Figure size 432x288 with 1 Axes>"
      ]
     },
     "metadata": {
      "needs_background": "light"
     },
     "output_type": "display_data"
    }
   ],
   "source": [
    "# Let us see the age distribution with respect to sex\n",
    "sns.boxplot(x='SEX',y='AGE', data=df)"
   ]
  },
  {
   "cell_type": "markdown",
   "metadata": {},
   "source": [
    "In the above example we can clearly see the distribution of age with respected to each sex."
   ]
  },
  {
   "cell_type": "code",
   "execution_count": 16,
   "metadata": {},
   "outputs": [
    {
     "data": {
      "text/plain": [
       "<matplotlib.axes._subplots.AxesSubplot at 0x134b05d42c8>"
      ]
     },
     "execution_count": 16,
     "metadata": {},
     "output_type": "execute_result"
    },
    {
     "data": {
      "image/png": "[encoded data removed]",
      "text/plain": [
       "<Figure size 432x288 with 1 Axes>"
      ]
     },
     "metadata": {
      "needs_background": "light"
     },
     "output_type": "display_data"
    }
   ],
   "source": [
    "# Let us now check the payment statuses of each month\n",
    "sns.countplot(x='PAY_0', data=df)"
   ]
  },
  {
   "cell_type": "code",
   "execution_count": 17,
   "metadata": {},
   "outputs": [],
   "source": [
    "# Since our legend has no description for -2 and 0 in this. Let us now remove them and replace by -1 assuming that those customer paid their dues duly.\n",
    "df.loc[df['PAY_0']==-2,\"PAY_0\"]=-1\n",
    "df.loc[df['PAY_0']==0,\"PAY_0\"]=-1"
   ]
  },
  {
   "cell_type": "code",
   "execution_count": 18,
   "metadata": {},
   "outputs": [
    {
     "data": {
      "text/plain": [
       "<matplotlib.axes._subplots.AxesSubplot at 0x134b0679248>"
      ]
     },
     "execution_count": 18,
     "metadata": {},
     "output_type": "execute_result"
    },
    {
     "data": {
      "image/png": "[encoded data removed]",
      "text/plain": [
       "<Figure size 432x288 with 1 Axes>"
      ]
     },
     "metadata": {
      "needs_background": "light"
     },
     "output_type": "display_data"
    }
   ],
   "source": [
    "# Let us now check the dataset for the values\n",
    "sns.countplot(x='PAY_0', data=df)"
   ]
  },
  {
   "cell_type": "code",
   "execution_count": 19,
   "metadata": {},
   "outputs": [
    {
     "data": {
      "text/plain": [
       "<matplotlib.axes._subplots.AxesSubplot at 0x134b06d8f88>"
      ]
     },
     "execution_count": 19,
     "metadata": {},
     "output_type": "execute_result"
    },
    {
     "data": {
      "image/png": "[encoded data removed]",
      "text/plain": [
       "<Figure size 432x288 with 1 Axes>"
      ]
     },
     "metadata": {
      "needs_background": "light"
     },
     "output_type": "display_data"
    }
   ],
   "source": [
    "# Let us move to the next month\n",
    "sns.countplot(x='PAY_2', data=df)"
   ]
  },
  {
   "cell_type": "code",
   "execution_count": 20,
   "metadata": {},
   "outputs": [],
   "source": [
    "# Since our legend has no description for -2 and 0 in this. Let us now remove them and replace by -1 assuming that those customer paid their dues duly.\n",
    "df.loc[df['PAY_2']==-2,\"PAY_2\"]=-1\n",
    "df.loc[df['PAY_2']==0,\"PAY_2\"]=-1"
   ]
  },
  {
   "cell_type": "code",
   "execution_count": 21,
   "metadata": {},
   "outputs": [
    {
     "data": {
      "text/plain": [
       "<matplotlib.axes._subplots.AxesSubplot at 0x134b077d888>"
      ]
     },
     "execution_count": 21,
     "metadata": {},
     "output_type": "execute_result"
    },
    {
     "data": {
      "image/png": "[encoded data removed]",
      "text/plain": [
       "<Figure size 432x288 with 1 Axes>"
      ]
     },
     "metadata": {
      "needs_background": "light"
     },
     "output_type": "display_data"
    }
   ],
   "source": [
    "sns.countplot(x='PAY_2', data=df)"
   ]
  },
  {
   "cell_type": "code",
   "execution_count": 22,
   "metadata": {},
   "outputs": [
    {
     "data": {
      "text/plain": [
       "<matplotlib.axes._subplots.AxesSubplot at 0x134b07d8948>"
      ]
     },
     "execution_count": 22,
     "metadata": {},
     "output_type": "execute_result"
    },
    {
     "data": {
      "image/png": "[encoded data removed]",
      "text/plain": [
       "<Figure size 432x288 with 1 Axes>"
      ]
     },
     "metadata": {
      "needs_background": "light"
     },
     "output_type": "display_data"
    }
   ],
   "source": [
    "# Now let us do the same for the other such PAY_ columns\n",
    "sns.countplot(x='PAY_3', data=df)"
   ]
  },
  {
   "cell_type": "code",
   "execution_count": 23,
   "metadata": {},
   "outputs": [],
   "source": [
    "# Since our legend has no description for -2 and 0 in this. Let us now remove them and replace by -1 assuming that those customer paid their dues duly.\n",
    "df.loc[df['PAY_3']==-2,\"PAY_3\"]=-1\n",
    "df.loc[df['PAY_3']==0,\"PAY_3\"]=-1"
   ]
  },
  {
   "cell_type": "code",
   "execution_count": 24,
   "metadata": {},
   "outputs": [
    {
     "data": {
      "text/plain": [
       "<matplotlib.axes._subplots.AxesSubplot at 0x134b08dc4c8>"
      ]
     },
     "execution_count": 24,
     "metadata": {},
     "output_type": "execute_result"
    },
    {
     "data": {
      "image/png": "[encoded data removed]",
      "text/plain": [
       "<Figure size 432x288 with 1 Axes>"
      ]
     },
     "metadata": {
      "needs_background": "light"
     },
     "output_type": "display_data"
    }
   ],
   "source": [
    "sns.countplot(x='PAY_3', data=df)"
   ]
  },
  {
   "cell_type": "code",
   "execution_count": 25,
   "metadata": {},
   "outputs": [
    {
     "data": {
      "text/plain": [
       "<matplotlib.axes._subplots.AxesSubplot at 0x134b095b548>"
      ]
     },
     "execution_count": 25,
     "metadata": {},
     "output_type": "execute_result"
    },
    {
     "data": {
      "image/png": "[encoded data removed]",
      "text/plain": [
       "<Figure size 432x288 with 1 Axes>"
      ]
     },
     "metadata": {
      "needs_background": "light"
     },
     "output_type": "display_data"
    }
   ],
   "source": [
    "sns.countplot(x='PAY_4', data=df)"
   ]
  },
  {
   "cell_type": "code",
   "execution_count": 26,
   "metadata": {},
   "outputs": [],
   "source": [
    "# Since our legend has no description for -2 and 0 in this. Let us now remove them and replace by -1 assuming that those customer paid their dues duly.\n",
    "df.loc[df['PAY_4']==-2,\"PAY_4\"]=-1\n",
    "df.loc[df['PAY_4']==0,\"PAY_4\"]=-1"
   ]
  },
  {
   "cell_type": "code",
   "execution_count": 27,
   "metadata": {},
   "outputs": [
    {
     "data": {
      "text/plain": [
       "<matplotlib.axes._subplots.AxesSubplot at 0x134b0a02388>"
      ]
     },
     "execution_count": 27,
     "metadata": {},
     "output_type": "execute_result"
    },
    {
     "data": {
      "image/png": "[encoded data removed]",
      "text/plain": [
       "<Figure size 432x288 with 1 Axes>"
      ]
     },
     "metadata": {
      "needs_background": "light"
     },
     "output_type": "display_data"
    }
   ],
   "source": [
    "sns.countplot(x='PAY_4', data=df)"
   ]
  },
  {
   "cell_type": "code",
   "execution_count": 28,
   "metadata": {},
   "outputs": [
    {
     "data": {
      "text/plain": [
       "<matplotlib.axes._subplots.AxesSubplot at 0x134b0953948>"
      ]
     },
     "execution_count": 28,
     "metadata": {},
     "output_type": "execute_result"
    },
    {
     "data": {
      "image/png": "[encoded data removed]",
      "text/plain": [
       "<Figure size 432x288 with 1 Axes>"
      ]
     },
     "metadata": {
      "needs_background": "light"
     },
     "output_type": "display_data"
    }
   ],
   "source": [
    "sns.countplot(x='PAY_5', data=df)"
   ]
  },
  {
   "cell_type": "code",
   "execution_count": 29,
   "metadata": {},
   "outputs": [],
   "source": [
    "# Since our legend has no description for -2 and 0 in this. Let us now remove them and replace by -1 assuming that those customer paid their dues duly.\n",
    "df.loc[df['PAY_5']==-2,\"PAY_5\"]=-1\n",
    "df.loc[df['PAY_5']==0,\"PAY_5\"]=-1"
   ]
  },
  {
   "cell_type": "code",
   "execution_count": 30,
   "metadata": {},
   "outputs": [
    {
     "data": {
      "text/plain": [
       "<matplotlib.axes._subplots.AxesSubplot at 0x134b0b09c08>"
      ]
     },
     "execution_count": 30,
     "metadata": {},
     "output_type": "execute_result"
    },
    {
     "data": {
      "image/png": "[encoded data removed]",
      "text/plain": [
       "<Figure size 432x288 with 1 Axes>"
      ]
     },
     "metadata": {
      "needs_background": "light"
     },
     "output_type": "display_data"
    }
   ],
   "source": [
    "sns.countplot(x='PAY_5', data=df)"
   ]
  },
  {
   "cell_type": "code",
   "execution_count": 31,
   "metadata": {},
   "outputs": [
    {
     "data": {
      "text/plain": [
       "<matplotlib.axes._subplots.AxesSubplot at 0x134b0b7fbc8>"
      ]
     },
     "execution_count": 31,
     "metadata": {},
     "output_type": "execute_result"
    },
    {
     "data": {
      "image/png": "[encoded data removed]",
      "text/plain": [
       "<Figure size 432x288 with 1 Axes>"
      ]
     },
     "metadata": {
      "needs_background": "light"
     },
     "output_type": "display_data"
    }
   ],
   "source": [
    "sns.countplot(x='PAY_6', data=df)"
   ]
  },
  {
   "cell_type": "code",
   "execution_count": 32,
   "metadata": {},
   "outputs": [],
   "source": [
    "# Since our legend has no description for -2 and 0 in this. Let us now remove them and replace by -1 assuming that those customer paid their dues duly.\n",
    "df.loc[df['PAY_6']==-2,\"PAY_6\"]=-1\n",
    "df.loc[df['PAY_6']==0,\"PAY_6\"]=-1"
   ]
  },
  {
   "cell_type": "code",
   "execution_count": 33,
   "metadata": {},
   "outputs": [
    {
     "data": {
      "text/plain": [
       "<matplotlib.axes._subplots.AxesSubplot at 0x134b0c11cc8>"
      ]
     },
     "execution_count": 33,
     "metadata": {},
     "output_type": "execute_result"
    },
    {
     "data": {
      "image/png": "[encoded data removed]",
      "text/plain": [
       "<Figure size 432x288 with 1 Axes>"
      ]
     },
     "metadata": {
      "needs_background": "light"
     },
     "output_type": "display_data"
    }
   ],
   "source": [
    "sns.countplot(x='PAY_6', data=df)"
   ]
  },
  {
   "cell_type": "code",
   "execution_count": 112,
   "metadata": {},
   "outputs": [],
   "source": [
    "# Let us do a bit of EDA With deeper insights to be derived\n",
    "default = df[df['default.payment.next.month']==1]"
   ]
  },
  {
   "cell_type": "code",
   "execution_count": 113,
   "metadata": {},
   "outputs": [
    {
     "data": {
      "text/plain": [
       "<matplotlib.axes._subplots.AxesSubplot at 0x134c5f60e08>"
      ]
     },
     "execution_count": 113,
     "metadata": {},
     "output_type": "execute_result"
    },
    {
     "data": {
      "image/png": "[encoded data removed]",
      "text/plain": [
       "<Figure size 432x288 with 1 Axes>"
      ]
     },
     "metadata": {
      "needs_background": "light"
     },
     "output_type": "display_data"
    }
   ],
   "source": [
    "# histogram of age of defaulters\n",
    "default['AGE'].hist()"
   ]
  },
  {
   "cell_type": "markdown",
   "metadata": {},
   "source": [
    "This seems a bit similar to the whole data set"
   ]
  },
  {
   "cell_type": "code",
   "execution_count": 114,
   "metadata": {},
   "outputs": [
    {
     "data": {
      "text/plain": [
       "<matplotlib.axes._subplots.AxesSubplot at 0x134c6e15d48>"
      ]
     },
     "execution_count": 114,
     "metadata": {},
     "output_type": "execute_result"
    },
    {
     "data": {
      "image/png": "[encoded data removed]",
      "text/plain": [
       "<Figure size 432x288 with 1 Axes>"
      ]
     },
     "metadata": {
      "needs_background": "light"
     },
     "output_type": "display_data"
    }
   ],
   "source": [
    "# Countplot of Age by defaulters\n",
    "sns.countplot(x='SEX', data=default)"
   ]
  },
  {
   "cell_type": "markdown",
   "metadata": {},
   "source": [
    "We can see that most defaulters are women. "
   ]
  },
  {
   "cell_type": "code",
   "execution_count": 115,
   "metadata": {},
   "outputs": [
    {
     "data": {
      "text/plain": [
       "<matplotlib.axes._subplots.AxesSubplot at 0x134c724a108>"
      ]
     },
     "execution_count": 115,
     "metadata": {},
     "output_type": "execute_result"
    },
    {
     "data": {
      "image/png": "[encoded data removed]",
      "text/plain": [
       "<Figure size 432x288 with 1 Axes>"
      ]
     },
     "metadata": {
      "needs_background": "light"
     },
     "output_type": "display_data"
    }
   ],
   "source": [
    "# Let us now see the defaulters as per education qualifications\n",
    "sns.countplot(x='EDUCATION', data=default)"
   ]
  },
  {
   "cell_type": "markdown",
   "metadata": {},
   "source": [
    "We can see graduate school people have less default than university people who have most default. Even high school people have less default. But that would be less informative as we would need to see the limit balance of the different categories."
   ]
  },
  {
   "cell_type": "code",
   "execution_count": 116,
   "metadata": {},
   "outputs": [
    {
     "data": {
      "text/plain": [
       "<matplotlib.axes._subplots.AxesSubplot at 0x134c741e548>"
      ]
     },
     "execution_count": 116,
     "metadata": {},
     "output_type": "execute_result"
    },
    {
     "data": {
      "image/png": "[encoded data removed]",
      "text/plain": [
       "<Figure size 432x288 with 1 Axes>"
      ]
     },
     "metadata": {
      "needs_background": "light"
     },
     "output_type": "display_data"
    }
   ],
   "source": [
    "# Boxplot of different categories in terms of education\n",
    "sns.boxplot(x='EDUCATION', y='LIMIT_BAL', data=default)"
   ]
  },
  {
   "cell_type": "markdown",
   "metadata": {},
   "source": [
    "We can see the limit enjoyed by the defaulters in the graduate category are highest and that of high school are lower and thus a lower chance of default. But all these categories in he dataset have tons of outliers in terms of education and thus education might now have the best relation with limit balance."
   ]
  },
  {
   "cell_type": "code",
   "execution_count": 117,
   "metadata": {},
   "outputs": [
    {
     "data": {
      "text/plain": [
       "<matplotlib.axes._subplots.AxesSubplot at 0x134c7795588>"
      ]
     },
     "execution_count": 117,
     "metadata": {},
     "output_type": "execute_result"
    },
    {
     "data": {
      "image/png": "[encoded data removed]",
      "text/plain": [
       "<Figure size 432x288 with 1 Axes>"
      ]
     },
     "metadata": {
      "needs_background": "light"
     },
     "output_type": "display_data"
    }
   ],
   "source": [
    "# Let us see the number of defaulters with respect to education and their respective sex.\n",
    "sns.countplot(x='EDUCATION', hue='SEX', data=default)"
   ]
  },
  {
   "cell_type": "markdown",
   "metadata": {},
   "source": [
    "Here we can see that in most defaulting categories in each educational level the defaulters are women."
   ]
  },
  {
   "cell_type": "code",
   "execution_count": 118,
   "metadata": {},
   "outputs": [
    {
     "data": {
      "text/plain": [
       "<matplotlib.axes._subplots.AxesSubplot at 0x134c79f7a48>"
      ]
     },
     "execution_count": 118,
     "metadata": {},
     "output_type": "execute_result"
    },
    {
     "data": {
      "image/png": "[encoded data removed]",
      "text/plain": [
       "<Figure size 432x288 with 1 Axes>"
      ]
     },
     "metadata": {
      "needs_background": "light"
     },
     "output_type": "display_data"
    }
   ],
   "source": [
    "# Let us see the whether more defaulters are married or single\n",
    "sns.countplot(x='MARRIAGE', data=default)"
   ]
  },
  {
   "cell_type": "markdown",
   "metadata": {},
   "source": [
    "We can see that there is just a slight difference in the single and married categories in terms of being defaulters in this particular sample represented by the dataset."
   ]
  },
  {
   "cell_type": "markdown",
   "metadata": {},
   "source": [
    "# Removing the outliers now"
   ]
  },
  {
   "cell_type": "code",
   "execution_count": 34,
   "metadata": {},
   "outputs": [
    {
     "name": "stdout",
     "output_type": "stream",
     "text": [
      "[[1.73199307 1.13672015 0.81016074 ... 0.31413612 0.29338206 1.87637834]\n",
      " [1.7318776  0.3659805  0.81016074 ... 0.31413612 0.18087821 1.87637834]\n",
      " [1.73176213 0.59720239 0.81016074 ... 0.24868274 0.01212243 0.53294156]\n",
      " ...\n",
      " [1.73176213 1.05964618 1.23432296 ... 0.18322937 0.11900109 1.87637834]\n",
      " [1.7318776  0.67427636 1.23432296 ... 3.15253642 0.19190359 1.87637834]\n",
      " [1.73199307 0.90549825 1.23432296 ... 0.24868274 0.23713013 1.87637834]]\n"
     ]
    }
   ],
   "source": [
    "from scipy import stats\n",
    "z = np.abs(stats.zscore(df))\n",
    "print(z)"
   ]
  },
  {
   "cell_type": "code",
   "execution_count": 35,
   "metadata": {},
   "outputs": [
    {
     "name": "stdout",
     "output_type": "stream",
     "text": [
      "(array([    6,     6,     6, ..., 29997, 29998, 29998], dtype=int64), array([12, 13, 14, ...,  7, 18, 22], dtype=int64))\n"
     ]
    }
   ],
   "source": [
    "threshold = 3\n",
    "print(np.where(z>3))"
   ]
  },
  {
   "cell_type": "code",
   "execution_count": 36,
   "metadata": {},
   "outputs": [],
   "source": [
    "dfout = df[(z<3).all(axis=1)]"
   ]
  },
  {
   "cell_type": "code",
   "execution_count": 37,
   "metadata": {},
   "outputs": [
    {
     "data": {
      "text/html": [
       "<div>\n",
       "<style scoped>\n",
       "    .dataframe tbody tr th:only-of-type {\n",
       "        vertical-align: middle;\n",
       "    }\n",
       "\n",
       "    .dataframe tbody tr th {\n",
       "        vertical-align: top;\n",
       "    }\n",
       "\n",
       "    .dataframe thead th {\n",
       "        text-align: right;\n",
       "    }\n",
       "</style>\n",
       "<table border=\"1\" class=\"dataframe\">\n",
       "  <thead>\n",
       "    <tr style=\"text-align: right;\">\n",
       "      <th></th>\n",
       "      <th>ID</th>\n",
       "      <th>LIMIT_BAL</th>\n",
       "      <th>SEX</th>\n",
       "      <th>EDUCATION</th>\n",
       "      <th>MARRIAGE</th>\n",
       "      <th>AGE</th>\n",
       "      <th>PAY_0</th>\n",
       "      <th>PAY_2</th>\n",
       "      <th>PAY_3</th>\n",
       "      <th>PAY_4</th>\n",
       "      <th>...</th>\n",
       "      <th>BILL_AMT4</th>\n",
       "      <th>BILL_AMT5</th>\n",
       "      <th>BILL_AMT6</th>\n",
       "      <th>PAY_AMT1</th>\n",
       "      <th>PAY_AMT2</th>\n",
       "      <th>PAY_AMT3</th>\n",
       "      <th>PAY_AMT4</th>\n",
       "      <th>PAY_AMT5</th>\n",
       "      <th>PAY_AMT6</th>\n",
       "      <th>default.payment.next.month</th>\n",
       "    </tr>\n",
       "  </thead>\n",
       "  <tbody>\n",
       "    <tr>\n",
       "      <th>0</th>\n",
       "      <td>1</td>\n",
       "      <td>20000.0</td>\n",
       "      <td>2</td>\n",
       "      <td>2</td>\n",
       "      <td>1</td>\n",
       "      <td>24</td>\n",
       "      <td>2</td>\n",
       "      <td>2</td>\n",
       "      <td>-1</td>\n",
       "      <td>-1</td>\n",
       "      <td>...</td>\n",
       "      <td>0.0</td>\n",
       "      <td>0.0</td>\n",
       "      <td>0.0</td>\n",
       "      <td>0.0</td>\n",
       "      <td>689.0</td>\n",
       "      <td>0.0</td>\n",
       "      <td>0.0</td>\n",
       "      <td>0.0</td>\n",
       "      <td>0.0</td>\n",
       "      <td>1</td>\n",
       "    </tr>\n",
       "    <tr>\n",
       "      <th>1</th>\n",
       "      <td>2</td>\n",
       "      <td>120000.0</td>\n",
       "      <td>2</td>\n",
       "      <td>2</td>\n",
       "      <td>2</td>\n",
       "      <td>26</td>\n",
       "      <td>-1</td>\n",
       "      <td>2</td>\n",
       "      <td>-1</td>\n",
       "      <td>-1</td>\n",
       "      <td>...</td>\n",
       "      <td>3272.0</td>\n",
       "      <td>3455.0</td>\n",
       "      <td>3261.0</td>\n",
       "      <td>0.0</td>\n",
       "      <td>1000.0</td>\n",
       "      <td>1000.0</td>\n",
       "      <td>1000.0</td>\n",
       "      <td>0.0</td>\n",
       "      <td>2000.0</td>\n",
       "      <td>1</td>\n",
       "    </tr>\n",
       "    <tr>\n",
       "      <th>2</th>\n",
       "      <td>3</td>\n",
       "      <td>90000.0</td>\n",
       "      <td>2</td>\n",
       "      <td>2</td>\n",
       "      <td>2</td>\n",
       "      <td>34</td>\n",
       "      <td>-1</td>\n",
       "      <td>-1</td>\n",
       "      <td>-1</td>\n",
       "      <td>-1</td>\n",
       "      <td>...</td>\n",
       "      <td>14331.0</td>\n",
       "      <td>14948.0</td>\n",
       "      <td>15549.0</td>\n",
       "      <td>1518.0</td>\n",
       "      <td>1500.0</td>\n",
       "      <td>1000.0</td>\n",
       "      <td>1000.0</td>\n",
       "      <td>1000.0</td>\n",
       "      <td>5000.0</td>\n",
       "      <td>0</td>\n",
       "    </tr>\n",
       "    <tr>\n",
       "      <th>3</th>\n",
       "      <td>4</td>\n",
       "      <td>50000.0</td>\n",
       "      <td>2</td>\n",
       "      <td>2</td>\n",
       "      <td>1</td>\n",
       "      <td>37</td>\n",
       "      <td>-1</td>\n",
       "      <td>-1</td>\n",
       "      <td>-1</td>\n",
       "      <td>-1</td>\n",
       "      <td>...</td>\n",
       "      <td>28314.0</td>\n",
       "      <td>28959.0</td>\n",
       "      <td>29547.0</td>\n",
       "      <td>2000.0</td>\n",
       "      <td>2019.0</td>\n",
       "      <td>1200.0</td>\n",
       "      <td>1100.0</td>\n",
       "      <td>1069.0</td>\n",
       "      <td>1000.0</td>\n",
       "      <td>0</td>\n",
       "    </tr>\n",
       "    <tr>\n",
       "      <th>4</th>\n",
       "      <td>5</td>\n",
       "      <td>50000.0</td>\n",
       "      <td>1</td>\n",
       "      <td>2</td>\n",
       "      <td>1</td>\n",
       "      <td>57</td>\n",
       "      <td>-1</td>\n",
       "      <td>-1</td>\n",
       "      <td>-1</td>\n",
       "      <td>-1</td>\n",
       "      <td>...</td>\n",
       "      <td>20940.0</td>\n",
       "      <td>19146.0</td>\n",
       "      <td>19131.0</td>\n",
       "      <td>2000.0</td>\n",
       "      <td>36681.0</td>\n",
       "      <td>10000.0</td>\n",
       "      <td>9000.0</td>\n",
       "      <td>689.0</td>\n",
       "      <td>679.0</td>\n",
       "      <td>0</td>\n",
       "    </tr>\n",
       "    <tr>\n",
       "      <th>...</th>\n",
       "      <td>...</td>\n",
       "      <td>...</td>\n",
       "      <td>...</td>\n",
       "      <td>...</td>\n",
       "      <td>...</td>\n",
       "      <td>...</td>\n",
       "      <td>...</td>\n",
       "      <td>...</td>\n",
       "      <td>...</td>\n",
       "      <td>...</td>\n",
       "      <td>...</td>\n",
       "      <td>...</td>\n",
       "      <td>...</td>\n",
       "      <td>...</td>\n",
       "      <td>...</td>\n",
       "      <td>...</td>\n",
       "      <td>...</td>\n",
       "      <td>...</td>\n",
       "      <td>...</td>\n",
       "      <td>...</td>\n",
       "      <td>...</td>\n",
       "    </tr>\n",
       "    <tr>\n",
       "      <th>29992</th>\n",
       "      <td>29993</td>\n",
       "      <td>10000.0</td>\n",
       "      <td>1</td>\n",
       "      <td>3</td>\n",
       "      <td>1</td>\n",
       "      <td>43</td>\n",
       "      <td>-1</td>\n",
       "      <td>-1</td>\n",
       "      <td>-1</td>\n",
       "      <td>-1</td>\n",
       "      <td>...</td>\n",
       "      <td>0.0</td>\n",
       "      <td>0.0</td>\n",
       "      <td>0.0</td>\n",
       "      <td>2000.0</td>\n",
       "      <td>0.0</td>\n",
       "      <td>0.0</td>\n",
       "      <td>0.0</td>\n",
       "      <td>0.0</td>\n",
       "      <td>0.0</td>\n",
       "      <td>0</td>\n",
       "    </tr>\n",
       "    <tr>\n",
       "      <th>29994</th>\n",
       "      <td>29995</td>\n",
       "      <td>80000.0</td>\n",
       "      <td>1</td>\n",
       "      <td>2</td>\n",
       "      <td>2</td>\n",
       "      <td>34</td>\n",
       "      <td>2</td>\n",
       "      <td>2</td>\n",
       "      <td>2</td>\n",
       "      <td>2</td>\n",
       "      <td>...</td>\n",
       "      <td>77519.0</td>\n",
       "      <td>82607.0</td>\n",
       "      <td>81158.0</td>\n",
       "      <td>7000.0</td>\n",
       "      <td>3500.0</td>\n",
       "      <td>0.0</td>\n",
       "      <td>7000.0</td>\n",
       "      <td>0.0</td>\n",
       "      <td>4000.0</td>\n",
       "      <td>1</td>\n",
       "    </tr>\n",
       "    <tr>\n",
       "      <th>29995</th>\n",
       "      <td>29996</td>\n",
       "      <td>220000.0</td>\n",
       "      <td>1</td>\n",
       "      <td>3</td>\n",
       "      <td>1</td>\n",
       "      <td>39</td>\n",
       "      <td>-1</td>\n",
       "      <td>-1</td>\n",
       "      <td>-1</td>\n",
       "      <td>-1</td>\n",
       "      <td>...</td>\n",
       "      <td>88004.0</td>\n",
       "      <td>31237.0</td>\n",
       "      <td>15980.0</td>\n",
       "      <td>8500.0</td>\n",
       "      <td>20000.0</td>\n",
       "      <td>5003.0</td>\n",
       "      <td>3047.0</td>\n",
       "      <td>5000.0</td>\n",
       "      <td>1000.0</td>\n",
       "      <td>0</td>\n",
       "    </tr>\n",
       "    <tr>\n",
       "      <th>29996</th>\n",
       "      <td>29997</td>\n",
       "      <td>150000.0</td>\n",
       "      <td>1</td>\n",
       "      <td>3</td>\n",
       "      <td>2</td>\n",
       "      <td>43</td>\n",
       "      <td>-1</td>\n",
       "      <td>-1</td>\n",
       "      <td>-1</td>\n",
       "      <td>-1</td>\n",
       "      <td>...</td>\n",
       "      <td>8979.0</td>\n",
       "      <td>5190.0</td>\n",
       "      <td>0.0</td>\n",
       "      <td>1837.0</td>\n",
       "      <td>3526.0</td>\n",
       "      <td>8998.0</td>\n",
       "      <td>129.0</td>\n",
       "      <td>0.0</td>\n",
       "      <td>0.0</td>\n",
       "      <td>0</td>\n",
       "    </tr>\n",
       "    <tr>\n",
       "      <th>29999</th>\n",
       "      <td>30000</td>\n",
       "      <td>50000.0</td>\n",
       "      <td>1</td>\n",
       "      <td>2</td>\n",
       "      <td>1</td>\n",
       "      <td>46</td>\n",
       "      <td>-1</td>\n",
       "      <td>-1</td>\n",
       "      <td>-1</td>\n",
       "      <td>-1</td>\n",
       "      <td>...</td>\n",
       "      <td>36535.0</td>\n",
       "      <td>32428.0</td>\n",
       "      <td>15313.0</td>\n",
       "      <td>2078.0</td>\n",
       "      <td>1800.0</td>\n",
       "      <td>1430.0</td>\n",
       "      <td>1000.0</td>\n",
       "      <td>1000.0</td>\n",
       "      <td>1000.0</td>\n",
       "      <td>1</td>\n",
       "    </tr>\n",
       "  </tbody>\n",
       "</table>\n",
       "<p>25847 rows × 25 columns</p>\n",
       "</div>"
      ],
      "text/plain": [
       "          ID  LIMIT_BAL  SEX  EDUCATION  MARRIAGE  AGE  PAY_0  PAY_2  PAY_3  \\\n",
       "0          1    20000.0    2          2         1   24      2      2     -1   \n",
       "1          2   120000.0    2          2         2   26     -1      2     -1   \n",
       "2          3    90000.0    2          2         2   34     -1     -1     -1   \n",
       "3          4    50000.0    2          2         1   37     -1     -1     -1   \n",
       "4          5    50000.0    1          2         1   57     -1     -1     -1   \n",
       "...      ...        ...  ...        ...       ...  ...    ...    ...    ...   \n",
       "29992  29993    10000.0    1          3         1   43     -1     -1     -1   \n",
       "29994  29995    80000.0    1          2         2   34      2      2      2   \n",
       "29995  29996   220000.0    1          3         1   39     -1     -1     -1   \n",
       "29996  29997   150000.0    1          3         2   43     -1     -1     -1   \n",
       "29999  30000    50000.0    1          2         1   46     -1     -1     -1   \n",
       "\n",
       "       PAY_4  ...  BILL_AMT4  BILL_AMT5  BILL_AMT6  PAY_AMT1  PAY_AMT2  \\\n",
       "0         -1  ...        0.0        0.0        0.0       0.0     689.0   \n",
       "1         -1  ...     3272.0     3455.0     3261.0       0.0    1000.0   \n",
       "2         -1  ...    14331.0    14948.0    15549.0    1518.0    1500.0   \n",
       "3         -1  ...    28314.0    28959.0    29547.0    2000.0    2019.0   \n",
       "4         -1  ...    20940.0    19146.0    19131.0    2000.0   36681.0   \n",
       "...      ...  ...        ...        ...        ...       ...       ...   \n",
       "29992     -1  ...        0.0        0.0        0.0    2000.0       0.0   \n",
       "29994      2  ...    77519.0    82607.0    81158.0    7000.0    3500.0   \n",
       "29995     -1  ...    88004.0    31237.0    15980.0    8500.0   20000.0   \n",
       "29996     -1  ...     8979.0     5190.0        0.0    1837.0    3526.0   \n",
       "29999     -1  ...    36535.0    32428.0    15313.0    2078.0    1800.0   \n",
       "\n",
       "       PAY_AMT3  PAY_AMT4  PAY_AMT5  PAY_AMT6  default.payment.next.month  \n",
       "0           0.0       0.0       0.0       0.0                           1  \n",
       "1        1000.0    1000.0       0.0    2000.0                           1  \n",
       "2        1000.0    1000.0    1000.0    5000.0                           0  \n",
       "3        1200.0    1100.0    1069.0    1000.0                           0  \n",
       "4       10000.0    9000.0     689.0     679.0                           0  \n",
       "...         ...       ...       ...       ...                         ...  \n",
       "29992       0.0       0.0       0.0       0.0                           0  \n",
       "29994       0.0    7000.0       0.0    4000.0                           1  \n",
       "29995    5003.0    3047.0    5000.0    1000.0                           0  \n",
       "29996    8998.0     129.0       0.0       0.0                           0  \n",
       "29999    1430.0    1000.0    1000.0    1000.0                           1  \n",
       "\n",
       "[25847 rows x 25 columns]"
      ]
     },
     "execution_count": 37,
     "metadata": {},
     "output_type": "execute_result"
    }
   ],
   "source": [
    "dfout"
   ]
  },
  {
   "cell_type": "code",
   "execution_count": 38,
   "metadata": {},
   "outputs": [],
   "source": [
    "dfout.to_pickle('dfpreprocessed.pkl')"
   ]
  },
  {
   "cell_type": "code",
   "execution_count": 39,
   "metadata": {},
   "outputs": [
    {
     "data": {
      "text/plain": [
       "<matplotlib.axes._subplots.AxesSubplot at 0x134b0c73648>"
      ]
     },
     "execution_count": 39,
     "metadata": {},
     "output_type": "execute_result"
    },
    {
     "data": {
      "image/png": "[encoded data removed]",
      "text/plain": [
       "<Figure size 432x288 with 1 Axes>"
      ]
     },
     "metadata": {
      "needs_background": "light"
     },
     "output_type": "display_data"
    }
   ],
   "source": [
    "# Now let us check if the dataset is balanced or not\n",
    "sns.countplot(x='default.payment.next.month', data=df)"
   ]
  },
  {
   "cell_type": "code",
   "execution_count": 40,
   "metadata": {},
   "outputs": [],
   "source": [
    "# Since the dataset is heavily imbalanced we will have to balance it first in order to train a model on the dataset\n",
    "from imblearn.combine import SMOTETomek"
   ]
  },
  {
   "cell_type": "code",
   "execution_count": 41,
   "metadata": {},
   "outputs": [],
   "source": [
    "X = dfout.drop('default.payment.next.month', axis=1, inplace=False)\n",
    "y = dfout['default.payment.next.month']"
   ]
  },
  {
   "cell_type": "code",
   "execution_count": 42,
   "metadata": {},
   "outputs": [
    {
     "name": "stderr",
     "output_type": "stream",
     "text": [
      "C:\\Users\\mayan\\AppData\\Roaming\\Python\\Python37\\site-packages\\imblearn\\utils\\_validation.py:638: FutureWarning: Pass sampling_strategy=1 as keyword args. From version 0.9 passing these as positional arguments will result in an error\n",
      "  FutureWarning)\n"
     ]
    }
   ],
   "source": [
    "sampler = SMOTETomek(1)"
   ]
  },
  {
   "cell_type": "code",
   "execution_count": 43,
   "metadata": {},
   "outputs": [],
   "source": [
    "Xout, yout = sampler.fit_resample(X,y)"
   ]
  },
  {
   "cell_type": "code",
   "execution_count": 44,
   "metadata": {},
   "outputs": [
    {
     "data": {
      "text/plain": [
       "1    19753\n",
       "0    19753\n",
       "Name: default.payment.next.month, dtype: int64"
      ]
     },
     "execution_count": 44,
     "metadata": {},
     "output_type": "execute_result"
    }
   ],
   "source": [
    "yout.value_counts()"
   ]
  },
  {
   "cell_type": "code",
   "execution_count": 45,
   "metadata": {},
   "outputs": [
    {
     "data": {
      "text/html": [
       "<div>\n",
       "<style scoped>\n",
       "    .dataframe tbody tr th:only-of-type {\n",
       "        vertical-align: middle;\n",
       "    }\n",
       "\n",
       "    .dataframe tbody tr th {\n",
       "        vertical-align: top;\n",
       "    }\n",
       "\n",
       "    .dataframe thead th {\n",
       "        text-align: right;\n",
       "    }\n",
       "</style>\n",
       "<table border=\"1\" class=\"dataframe\">\n",
       "  <thead>\n",
       "    <tr style=\"text-align: right;\">\n",
       "      <th></th>\n",
       "      <th>ID</th>\n",
       "      <th>LIMIT_BAL</th>\n",
       "      <th>SEX</th>\n",
       "      <th>EDUCATION</th>\n",
       "      <th>MARRIAGE</th>\n",
       "      <th>AGE</th>\n",
       "      <th>PAY_0</th>\n",
       "      <th>PAY_2</th>\n",
       "      <th>PAY_3</th>\n",
       "      <th>PAY_4</th>\n",
       "      <th>...</th>\n",
       "      <th>BILL_AMT3</th>\n",
       "      <th>BILL_AMT4</th>\n",
       "      <th>BILL_AMT5</th>\n",
       "      <th>BILL_AMT6</th>\n",
       "      <th>PAY_AMT1</th>\n",
       "      <th>PAY_AMT2</th>\n",
       "      <th>PAY_AMT3</th>\n",
       "      <th>PAY_AMT4</th>\n",
       "      <th>PAY_AMT5</th>\n",
       "      <th>PAY_AMT6</th>\n",
       "    </tr>\n",
       "  </thead>\n",
       "  <tbody>\n",
       "    <tr>\n",
       "      <th>0</th>\n",
       "      <td>1</td>\n",
       "      <td>20000.000000</td>\n",
       "      <td>2</td>\n",
       "      <td>2</td>\n",
       "      <td>1</td>\n",
       "      <td>24</td>\n",
       "      <td>2</td>\n",
       "      <td>2</td>\n",
       "      <td>-1</td>\n",
       "      <td>-1</td>\n",
       "      <td>...</td>\n",
       "      <td>689.000000</td>\n",
       "      <td>0.000000</td>\n",
       "      <td>0.000000</td>\n",
       "      <td>0.000000</td>\n",
       "      <td>0.000000</td>\n",
       "      <td>689.000000</td>\n",
       "      <td>0.000000</td>\n",
       "      <td>0.000000</td>\n",
       "      <td>0.000000</td>\n",
       "      <td>0.000000</td>\n",
       "    </tr>\n",
       "    <tr>\n",
       "      <th>1</th>\n",
       "      <td>2</td>\n",
       "      <td>120000.000000</td>\n",
       "      <td>2</td>\n",
       "      <td>2</td>\n",
       "      <td>2</td>\n",
       "      <td>26</td>\n",
       "      <td>-1</td>\n",
       "      <td>2</td>\n",
       "      <td>-1</td>\n",
       "      <td>-1</td>\n",
       "      <td>...</td>\n",
       "      <td>2682.000000</td>\n",
       "      <td>3272.000000</td>\n",
       "      <td>3455.000000</td>\n",
       "      <td>3261.000000</td>\n",
       "      <td>0.000000</td>\n",
       "      <td>1000.000000</td>\n",
       "      <td>1000.000000</td>\n",
       "      <td>1000.000000</td>\n",
       "      <td>0.000000</td>\n",
       "      <td>2000.000000</td>\n",
       "    </tr>\n",
       "    <tr>\n",
       "      <th>2</th>\n",
       "      <td>3</td>\n",
       "      <td>90000.000000</td>\n",
       "      <td>2</td>\n",
       "      <td>2</td>\n",
       "      <td>2</td>\n",
       "      <td>34</td>\n",
       "      <td>-1</td>\n",
       "      <td>-1</td>\n",
       "      <td>-1</td>\n",
       "      <td>-1</td>\n",
       "      <td>...</td>\n",
       "      <td>13559.000000</td>\n",
       "      <td>14331.000000</td>\n",
       "      <td>14948.000000</td>\n",
       "      <td>15549.000000</td>\n",
       "      <td>1518.000000</td>\n",
       "      <td>1500.000000</td>\n",
       "      <td>1000.000000</td>\n",
       "      <td>1000.000000</td>\n",
       "      <td>1000.000000</td>\n",
       "      <td>5000.000000</td>\n",
       "    </tr>\n",
       "    <tr>\n",
       "      <th>3</th>\n",
       "      <td>4</td>\n",
       "      <td>50000.000000</td>\n",
       "      <td>2</td>\n",
       "      <td>2</td>\n",
       "      <td>1</td>\n",
       "      <td>37</td>\n",
       "      <td>-1</td>\n",
       "      <td>-1</td>\n",
       "      <td>-1</td>\n",
       "      <td>-1</td>\n",
       "      <td>...</td>\n",
       "      <td>49291.000000</td>\n",
       "      <td>28314.000000</td>\n",
       "      <td>28959.000000</td>\n",
       "      <td>29547.000000</td>\n",
       "      <td>2000.000000</td>\n",
       "      <td>2019.000000</td>\n",
       "      <td>1200.000000</td>\n",
       "      <td>1100.000000</td>\n",
       "      <td>1069.000000</td>\n",
       "      <td>1000.000000</td>\n",
       "    </tr>\n",
       "    <tr>\n",
       "      <th>4</th>\n",
       "      <td>5</td>\n",
       "      <td>50000.000000</td>\n",
       "      <td>1</td>\n",
       "      <td>2</td>\n",
       "      <td>1</td>\n",
       "      <td>57</td>\n",
       "      <td>-1</td>\n",
       "      <td>-1</td>\n",
       "      <td>-1</td>\n",
       "      <td>-1</td>\n",
       "      <td>...</td>\n",
       "      <td>35835.000000</td>\n",
       "      <td>20940.000000</td>\n",
       "      <td>19146.000000</td>\n",
       "      <td>19131.000000</td>\n",
       "      <td>2000.000000</td>\n",
       "      <td>36681.000000</td>\n",
       "      <td>10000.000000</td>\n",
       "      <td>9000.000000</td>\n",
       "      <td>689.000000</td>\n",
       "      <td>679.000000</td>\n",
       "    </tr>\n",
       "    <tr>\n",
       "      <th>...</th>\n",
       "      <td>...</td>\n",
       "      <td>...</td>\n",
       "      <td>...</td>\n",
       "      <td>...</td>\n",
       "      <td>...</td>\n",
       "      <td>...</td>\n",
       "      <td>...</td>\n",
       "      <td>...</td>\n",
       "      <td>...</td>\n",
       "      <td>...</td>\n",
       "      <td>...</td>\n",
       "      <td>...</td>\n",
       "      <td>...</td>\n",
       "      <td>...</td>\n",
       "      <td>...</td>\n",
       "      <td>...</td>\n",
       "      <td>...</td>\n",
       "      <td>...</td>\n",
       "      <td>...</td>\n",
       "      <td>...</td>\n",
       "      <td>...</td>\n",
       "    </tr>\n",
       "    <tr>\n",
       "      <th>39501</th>\n",
       "      <td>10602</td>\n",
       "      <td>62138.162836</td>\n",
       "      <td>1</td>\n",
       "      <td>3</td>\n",
       "      <td>1</td>\n",
       "      <td>41</td>\n",
       "      <td>-1</td>\n",
       "      <td>-1</td>\n",
       "      <td>2</td>\n",
       "      <td>-1</td>\n",
       "      <td>...</td>\n",
       "      <td>19809.767726</td>\n",
       "      <td>483.116992</td>\n",
       "      <td>637.492348</td>\n",
       "      <td>12897.093820</td>\n",
       "      <td>20545.402649</td>\n",
       "      <td>0.000000</td>\n",
       "      <td>0.000000</td>\n",
       "      <td>637.492348</td>\n",
       "      <td>12762.282654</td>\n",
       "      <td>2717.632821</td>\n",
       "    </tr>\n",
       "    <tr>\n",
       "      <th>39502</th>\n",
       "      <td>5754</td>\n",
       "      <td>50000.000000</td>\n",
       "      <td>1</td>\n",
       "      <td>1</td>\n",
       "      <td>1</td>\n",
       "      <td>26</td>\n",
       "      <td>1</td>\n",
       "      <td>1</td>\n",
       "      <td>1</td>\n",
       "      <td>1</td>\n",
       "      <td>...</td>\n",
       "      <td>47891.776461</td>\n",
       "      <td>50674.536795</td>\n",
       "      <td>49837.556041</td>\n",
       "      <td>49863.868989</td>\n",
       "      <td>3764.886687</td>\n",
       "      <td>166.904681</td>\n",
       "      <td>3656.938845</td>\n",
       "      <td>158.956839</td>\n",
       "      <td>3817.199635</td>\n",
       "      <td>151.008997</td>\n",
       "    </tr>\n",
       "    <tr>\n",
       "      <th>39503</th>\n",
       "      <td>11518</td>\n",
       "      <td>170631.108630</td>\n",
       "      <td>2</td>\n",
       "      <td>1</td>\n",
       "      <td>1</td>\n",
       "      <td>31</td>\n",
       "      <td>2</td>\n",
       "      <td>0</td>\n",
       "      <td>0</td>\n",
       "      <td>0</td>\n",
       "      <td>...</td>\n",
       "      <td>77789.848785</td>\n",
       "      <td>80900.512427</td>\n",
       "      <td>84066.313600</td>\n",
       "      <td>82612.124267</td>\n",
       "      <td>3656.799777</td>\n",
       "      <td>3187.377827</td>\n",
       "      <td>4649.747277</td>\n",
       "      <td>4811.644792</td>\n",
       "      <td>0.000000</td>\n",
       "      <td>3200.000000</td>\n",
       "    </tr>\n",
       "    <tr>\n",
       "      <th>39504</th>\n",
       "      <td>4359</td>\n",
       "      <td>50000.000000</td>\n",
       "      <td>1</td>\n",
       "      <td>2</td>\n",
       "      <td>1</td>\n",
       "      <td>27</td>\n",
       "      <td>-1</td>\n",
       "      <td>-1</td>\n",
       "      <td>-1</td>\n",
       "      <td>-1</td>\n",
       "      <td>...</td>\n",
       "      <td>792.761527</td>\n",
       "      <td>99.769881</td>\n",
       "      <td>218.383364</td>\n",
       "      <td>31.526366</td>\n",
       "      <td>2496.597787</td>\n",
       "      <td>805.418098</td>\n",
       "      <td>307.107511</td>\n",
       "      <td>230.119456</td>\n",
       "      <td>46.023891</td>\n",
       "      <td>207.107511</td>\n",
       "    </tr>\n",
       "    <tr>\n",
       "      <th>39505</th>\n",
       "      <td>13265</td>\n",
       "      <td>240000.000000</td>\n",
       "      <td>2</td>\n",
       "      <td>2</td>\n",
       "      <td>1</td>\n",
       "      <td>48</td>\n",
       "      <td>-1</td>\n",
       "      <td>-1</td>\n",
       "      <td>-1</td>\n",
       "      <td>-1</td>\n",
       "      <td>...</td>\n",
       "      <td>580.011703</td>\n",
       "      <td>-2.197014</td>\n",
       "      <td>521.790831</td>\n",
       "      <td>86.782054</td>\n",
       "      <td>0.000000</td>\n",
       "      <td>582.757971</td>\n",
       "      <td>0.000000</td>\n",
       "      <td>523.987845</td>\n",
       "      <td>86.782054</td>\n",
       "      <td>986.459298</td>\n",
       "    </tr>\n",
       "  </tbody>\n",
       "</table>\n",
       "<p>39506 rows × 24 columns</p>\n",
       "</div>"
      ],
      "text/plain": [
       "          ID      LIMIT_BAL  SEX  EDUCATION  MARRIAGE  AGE  PAY_0  PAY_2  \\\n",
       "0          1   20000.000000    2          2         1   24      2      2   \n",
       "1          2  120000.000000    2          2         2   26     -1      2   \n",
       "2          3   90000.000000    2          2         2   34     -1     -1   \n",
       "3          4   50000.000000    2          2         1   37     -1     -1   \n",
       "4          5   50000.000000    1          2         1   57     -1     -1   \n",
       "...      ...            ...  ...        ...       ...  ...    ...    ...   \n",
       "39501  10602   62138.162836    1          3         1   41     -1     -1   \n",
       "39502   5754   50000.000000    1          1         1   26      1      1   \n",
       "39503  11518  170631.108630    2          1         1   31      2      0   \n",
       "39504   4359   50000.000000    1          2         1   27     -1     -1   \n",
       "39505  13265  240000.000000    2          2         1   48     -1     -1   \n",
       "\n",
       "       PAY_3  PAY_4  ...     BILL_AMT3     BILL_AMT4     BILL_AMT5  \\\n",
       "0         -1     -1  ...    689.000000      0.000000      0.000000   \n",
       "1         -1     -1  ...   2682.000000   3272.000000   3455.000000   \n",
       "2         -1     -1  ...  13559.000000  14331.000000  14948.000000   \n",
       "3         -1     -1  ...  49291.000000  28314.000000  28959.000000   \n",
       "4         -1     -1  ...  35835.000000  20940.000000  19146.000000   \n",
       "...      ...    ...  ...           ...           ...           ...   \n",
       "39501      2     -1  ...  19809.767726    483.116992    637.492348   \n",
       "39502      1      1  ...  47891.776461  50674.536795  49837.556041   \n",
       "39503      0      0  ...  77789.848785  80900.512427  84066.313600   \n",
       "39504     -1     -1  ...    792.761527     99.769881    218.383364   \n",
       "39505     -1     -1  ...    580.011703     -2.197014    521.790831   \n",
       "\n",
       "          BILL_AMT6      PAY_AMT1      PAY_AMT2      PAY_AMT3     PAY_AMT4  \\\n",
       "0          0.000000      0.000000    689.000000      0.000000     0.000000   \n",
       "1       3261.000000      0.000000   1000.000000   1000.000000  1000.000000   \n",
       "2      15549.000000   1518.000000   1500.000000   1000.000000  1000.000000   \n",
       "3      29547.000000   2000.000000   2019.000000   1200.000000  1100.000000   \n",
       "4      19131.000000   2000.000000  36681.000000  10000.000000  9000.000000   \n",
       "...             ...           ...           ...           ...          ...   \n",
       "39501  12897.093820  20545.402649      0.000000      0.000000   637.492348   \n",
       "39502  49863.868989   3764.886687    166.904681   3656.938845   158.956839   \n",
       "39503  82612.124267   3656.799777   3187.377827   4649.747277  4811.644792   \n",
       "39504     31.526366   2496.597787    805.418098    307.107511   230.119456   \n",
       "39505     86.782054      0.000000    582.757971      0.000000   523.987845   \n",
       "\n",
       "           PAY_AMT5     PAY_AMT6  \n",
       "0          0.000000     0.000000  \n",
       "1          0.000000  2000.000000  \n",
       "2       1000.000000  5000.000000  \n",
       "3       1069.000000  1000.000000  \n",
       "4        689.000000   679.000000  \n",
       "...             ...          ...  \n",
       "39501  12762.282654  2717.632821  \n",
       "39502   3817.199635   151.008997  \n",
       "39503      0.000000  3200.000000  \n",
       "39504     46.023891   207.107511  \n",
       "39505     86.782054   986.459298  \n",
       "\n",
       "[39506 rows x 24 columns]"
      ]
     },
     "execution_count": 45,
     "metadata": {},
     "output_type": "execute_result"
    }
   ],
   "source": [
    "# Now we have a balanced dataset with 19736 points each side. Let us now shuffle the dataset and create training, validation and testing sets.\n",
    "Xout"
   ]
  },
  {
   "cell_type": "code",
   "execution_count": 46,
   "metadata": {},
   "outputs": [],
   "source": [
    "# Now let us create dummies on the relevant columns i.e. SEX, MARRIAGE, EDUCATION.\n",
    "sex = pd.get_dummies(Xout['SEX'], prefix='SEX', drop_first=True)\n",
    "edu = pd.get_dummies(Xout['EDUCATION'], prefix='EDUCATION', drop_first=True)\n",
    "marriage = pd.get_dummies(Xout['MARRIAGE'], prefix='MARRIAGE', drop_first=True)"
   ]
  },
  {
   "cell_type": "code",
   "execution_count": 47,
   "metadata": {},
   "outputs": [],
   "source": [
    "Xout = pd.concat([Xout, sex, edu, marriage], axis=1)\n",
    "Xout.drop(['SEX', 'EDUCATION', 'MARRIAGE'], axis=1, inplace=True)\n"
   ]
  },
  {
   "cell_type": "code",
   "execution_count": 48,
   "metadata": {},
   "outputs": [
    {
     "data": {
      "text/plain": [
       "Index(['ID', 'LIMIT_BAL', 'AGE', 'PAY_0', 'PAY_2', 'PAY_3', 'PAY_4', 'PAY_5',\n",
       "       'PAY_6', 'BILL_AMT1', 'BILL_AMT2', 'BILL_AMT3', 'BILL_AMT4',\n",
       "       'BILL_AMT5', 'BILL_AMT6', 'PAY_AMT1', 'PAY_AMT2', 'PAY_AMT3',\n",
       "       'PAY_AMT4', 'PAY_AMT5', 'PAY_AMT6', 'SEX_2', 'EDUCATION_1',\n",
       "       'EDUCATION_2', 'EDUCATION_3', 'EDUCATION_4', 'MARRIAGE_2',\n",
       "       'MARRIAGE_3'],\n",
       "      dtype='object')"
      ]
     },
     "execution_count": 48,
     "metadata": {},
     "output_type": "execute_result"
    }
   ],
   "source": [
    "Xout.columns"
   ]
  },
  {
   "cell_type": "code",
   "execution_count": 49,
   "metadata": {},
   "outputs": [],
   "source": [
    "ordercol = ['ID', 'LIMIT_BAL','SEX_2','EDUCATION_1',\n",
    "       'EDUCATION_2', 'EDUCATION_3', 'EDUCATION_4','MARRIAGE_2',\n",
    "       'MARRIAGE_3', 'AGE', 'PAY_0', 'PAY_2', 'PAY_3', 'PAY_4', 'PAY_5',\n",
    "       'PAY_6', 'BILL_AMT1', 'BILL_AMT2', 'BILL_AMT3', 'BILL_AMT4',\n",
    "       'BILL_AMT5', 'BILL_AMT6', 'PAY_AMT1', 'PAY_AMT2', 'PAY_AMT3',\n",
    "       'PAY_AMT4', 'PAY_AMT5', 'PAY_AMT6'   ]\n",
    "Xout = Xout[ordercol]"
   ]
  },
  {
   "cell_type": "code",
   "execution_count": 50,
   "metadata": {},
   "outputs": [],
   "source": [
    "# Now let us scale the given data before proceeding to ML Training\n",
    "from sklearn.preprocessing import StandardScaler\n",
    "scaler = StandardScaler()\n",
    "Xscaled = scaler.fit_transform(Xout)"
   ]
  },
  {
   "cell_type": "code",
   "execution_count": 51,
   "metadata": {},
   "outputs": [
    {
     "data": {
      "text/html": [
       "<div>\n",
       "<style scoped>\n",
       "    .dataframe tbody tr th:only-of-type {\n",
       "        vertical-align: middle;\n",
       "    }\n",
       "\n",
       "    .dataframe tbody tr th {\n",
       "        vertical-align: top;\n",
       "    }\n",
       "\n",
       "    .dataframe thead th {\n",
       "        text-align: right;\n",
       "    }\n",
       "</style>\n",
       "<table border=\"1\" class=\"dataframe\">\n",
       "  <thead>\n",
       "    <tr style=\"text-align: right;\">\n",
       "      <th></th>\n",
       "      <th>ID</th>\n",
       "      <th>LIMIT_BAL</th>\n",
       "      <th>SEX_2</th>\n",
       "      <th>EDUCATION_1</th>\n",
       "      <th>EDUCATION_2</th>\n",
       "      <th>EDUCATION_3</th>\n",
       "      <th>EDUCATION_4</th>\n",
       "      <th>MARRIAGE_2</th>\n",
       "      <th>MARRIAGE_3</th>\n",
       "      <th>AGE</th>\n",
       "      <th>...</th>\n",
       "      <th>BILL_AMT3</th>\n",
       "      <th>BILL_AMT4</th>\n",
       "      <th>BILL_AMT5</th>\n",
       "      <th>BILL_AMT6</th>\n",
       "      <th>PAY_AMT1</th>\n",
       "      <th>PAY_AMT2</th>\n",
       "      <th>PAY_AMT3</th>\n",
       "      <th>PAY_AMT4</th>\n",
       "      <th>PAY_AMT5</th>\n",
       "      <th>PAY_AMT6</th>\n",
       "    </tr>\n",
       "  </thead>\n",
       "  <tbody>\n",
       "    <tr>\n",
       "      <th>0</th>\n",
       "      <td>-1.770685</td>\n",
       "      <td>-1.073396</td>\n",
       "      <td>0.967176</td>\n",
       "      <td>-0.796898</td>\n",
       "      <td>1.024343</td>\n",
       "      <td>-0.370260</td>\n",
       "      <td>-0.052113</td>\n",
       "      <td>-0.893546</td>\n",
       "      <td>-0.09206</td>\n",
       "      <td>-1.300507</td>\n",
       "      <td>...</td>\n",
       "      <td>-0.769911</td>\n",
       "      <td>-0.770381</td>\n",
       "      <td>-0.747324</td>\n",
       "      <td>-0.731520</td>\n",
       "      <td>-0.646129</td>\n",
       "      <td>-0.465573</td>\n",
       "      <td>-0.561861</td>\n",
       "      <td>-0.545576</td>\n",
       "      <td>-0.565809</td>\n",
       "      <td>-0.522514</td>\n",
       "    </tr>\n",
       "    <tr>\n",
       "      <th>1</th>\n",
       "      <td>-1.770566</td>\n",
       "      <td>-0.200239</td>\n",
       "      <td>0.967176</td>\n",
       "      <td>-0.796898</td>\n",
       "      <td>1.024343</td>\n",
       "      <td>-0.370260</td>\n",
       "      <td>-0.052113</td>\n",
       "      <td>1.119136</td>\n",
       "      <td>-0.09206</td>\n",
       "      <td>-1.066588</td>\n",
       "      <td>...</td>\n",
       "      <td>-0.727307</td>\n",
       "      <td>-0.695572</td>\n",
       "      <td>-0.664682</td>\n",
       "      <td>-0.652460</td>\n",
       "      <td>-0.646129</td>\n",
       "      <td>-0.411812</td>\n",
       "      <td>-0.372823</td>\n",
       "      <td>-0.343751</td>\n",
       "      <td>-0.565809</td>\n",
       "      <td>-0.131366</td>\n",
       "    </tr>\n",
       "    <tr>\n",
       "      <th>2</th>\n",
       "      <td>-1.770448</td>\n",
       "      <td>-0.462186</td>\n",
       "      <td>0.967176</td>\n",
       "      <td>-0.796898</td>\n",
       "      <td>1.024343</td>\n",
       "      <td>-0.370260</td>\n",
       "      <td>-0.052113</td>\n",
       "      <td>1.119136</td>\n",
       "      <td>-0.09206</td>\n",
       "      <td>-0.130913</td>\n",
       "      <td>...</td>\n",
       "      <td>-0.494794</td>\n",
       "      <td>-0.442725</td>\n",
       "      <td>-0.389778</td>\n",
       "      <td>-0.354546</td>\n",
       "      <td>-0.352832</td>\n",
       "      <td>-0.325380</td>\n",
       "      <td>-0.372823</td>\n",
       "      <td>-0.343751</td>\n",
       "      <td>-0.352887</td>\n",
       "      <td>0.455356</td>\n",
       "    </tr>\n",
       "    <tr>\n",
       "      <th>3</th>\n",
       "      <td>-1.770329</td>\n",
       "      <td>-0.811449</td>\n",
       "      <td>0.967176</td>\n",
       "      <td>-0.796898</td>\n",
       "      <td>1.024343</td>\n",
       "      <td>-0.370260</td>\n",
       "      <td>-0.052113</td>\n",
       "      <td>-0.893546</td>\n",
       "      <td>-0.09206</td>\n",
       "      <td>0.219966</td>\n",
       "      <td>...</td>\n",
       "      <td>0.269036</td>\n",
       "      <td>-0.123024</td>\n",
       "      <td>-0.054644</td>\n",
       "      <td>-0.015175</td>\n",
       "      <td>-0.259703</td>\n",
       "      <td>-0.235664</td>\n",
       "      <td>-0.335015</td>\n",
       "      <td>-0.323569</td>\n",
       "      <td>-0.338195</td>\n",
       "      <td>-0.326940</td>\n",
       "    </tr>\n",
       "    <tr>\n",
       "      <th>4</th>\n",
       "      <td>-1.770211</td>\n",
       "      <td>-0.811449</td>\n",
       "      <td>-1.033938</td>\n",
       "      <td>-0.796898</td>\n",
       "      <td>1.024343</td>\n",
       "      <td>-0.370260</td>\n",
       "      <td>-0.052113</td>\n",
       "      <td>-0.893546</td>\n",
       "      <td>-0.09206</td>\n",
       "      <td>2.559155</td>\n",
       "      <td>...</td>\n",
       "      <td>-0.018608</td>\n",
       "      <td>-0.291620</td>\n",
       "      <td>-0.289364</td>\n",
       "      <td>-0.267703</td>\n",
       "      <td>-0.259703</td>\n",
       "      <td>5.756140</td>\n",
       "      <td>1.328523</td>\n",
       "      <td>1.270846</td>\n",
       "      <td>-0.419105</td>\n",
       "      <td>-0.389720</td>\n",
       "    </tr>\n",
       "    <tr>\n",
       "      <th>...</th>\n",
       "      <td>...</td>\n",
       "      <td>...</td>\n",
       "      <td>...</td>\n",
       "      <td>...</td>\n",
       "      <td>...</td>\n",
       "      <td>...</td>\n",
       "      <td>...</td>\n",
       "      <td>...</td>\n",
       "      <td>...</td>\n",
       "      <td>...</td>\n",
       "      <td>...</td>\n",
       "      <td>...</td>\n",
       "      <td>...</td>\n",
       "      <td>...</td>\n",
       "      <td>...</td>\n",
       "      <td>...</td>\n",
       "      <td>...</td>\n",
       "      <td>...</td>\n",
       "      <td>...</td>\n",
       "      <td>...</td>\n",
       "      <td>...</td>\n",
       "    </tr>\n",
       "    <tr>\n",
       "      <th>39501</th>\n",
       "      <td>-0.514334</td>\n",
       "      <td>-0.705464</td>\n",
       "      <td>-1.033938</td>\n",
       "      <td>-0.796898</td>\n",
       "      <td>-0.976235</td>\n",
       "      <td>2.700806</td>\n",
       "      <td>-0.052113</td>\n",
       "      <td>-0.893546</td>\n",
       "      <td>-0.09206</td>\n",
       "      <td>0.687804</td>\n",
       "      <td>...</td>\n",
       "      <td>-0.361173</td>\n",
       "      <td>-0.759336</td>\n",
       "      <td>-0.732075</td>\n",
       "      <td>-0.418840</td>\n",
       "      <td>3.323505</td>\n",
       "      <td>-0.584676</td>\n",
       "      <td>-0.561861</td>\n",
       "      <td>-0.416914</td>\n",
       "      <td>2.151570</td>\n",
       "      <td>0.008984</td>\n",
       "    </tr>\n",
       "    <tr>\n",
       "      <th>39502</th>\n",
       "      <td>-1.088882</td>\n",
       "      <td>-0.811449</td>\n",
       "      <td>-1.033938</td>\n",
       "      <td>1.254865</td>\n",
       "      <td>-0.976235</td>\n",
       "      <td>-0.370260</td>\n",
       "      <td>-0.052113</td>\n",
       "      <td>-0.893546</td>\n",
       "      <td>-0.09206</td>\n",
       "      <td>-1.066588</td>\n",
       "      <td>...</td>\n",
       "      <td>0.239125</td>\n",
       "      <td>0.388216</td>\n",
       "      <td>0.444757</td>\n",
       "      <td>0.477392</td>\n",
       "      <td>0.081295</td>\n",
       "      <td>-0.555824</td>\n",
       "      <td>0.129441</td>\n",
       "      <td>-0.513495</td>\n",
       "      <td>0.246959</td>\n",
       "      <td>-0.492981</td>\n",
       "    </tr>\n",
       "    <tr>\n",
       "      <th>39503</th>\n",
       "      <td>-0.405776</td>\n",
       "      <td>0.241851</td>\n",
       "      <td>0.967176</td>\n",
       "      <td>1.254865</td>\n",
       "      <td>-0.976235</td>\n",
       "      <td>-0.370260</td>\n",
       "      <td>-0.052113</td>\n",
       "      <td>-0.893546</td>\n",
       "      <td>-0.09206</td>\n",
       "      <td>-0.481791</td>\n",
       "      <td>...</td>\n",
       "      <td>0.878245</td>\n",
       "      <td>1.079288</td>\n",
       "      <td>1.263485</td>\n",
       "      <td>1.271349</td>\n",
       "      <td>0.060412</td>\n",
       "      <td>-0.033694</td>\n",
       "      <td>0.317120</td>\n",
       "      <td>0.425533</td>\n",
       "      <td>-0.565809</td>\n",
       "      <td>0.103323</td>\n",
       "    </tr>\n",
       "    <tr>\n",
       "      <th>39504</th>\n",
       "      <td>-1.254207</td>\n",
       "      <td>-0.811449</td>\n",
       "      <td>-1.033938</td>\n",
       "      <td>-0.796898</td>\n",
       "      <td>1.024343</td>\n",
       "      <td>-0.370260</td>\n",
       "      <td>-0.052113</td>\n",
       "      <td>-0.893546</td>\n",
       "      <td>-0.09206</td>\n",
       "      <td>-0.949629</td>\n",
       "      <td>...</td>\n",
       "      <td>-0.767693</td>\n",
       "      <td>-0.768100</td>\n",
       "      <td>-0.742100</td>\n",
       "      <td>-0.730756</td>\n",
       "      <td>-0.163754</td>\n",
       "      <td>-0.445448</td>\n",
       "      <td>-0.503806</td>\n",
       "      <td>-0.499132</td>\n",
       "      <td>-0.556010</td>\n",
       "      <td>-0.482010</td>\n",
       "    </tr>\n",
       "    <tr>\n",
       "      <th>39505</th>\n",
       "      <td>-0.198735</td>\n",
       "      <td>0.847550</td>\n",
       "      <td>0.967176</td>\n",
       "      <td>-0.796898</td>\n",
       "      <td>1.024343</td>\n",
       "      <td>-0.370260</td>\n",
       "      <td>-0.052113</td>\n",
       "      <td>-0.893546</td>\n",
       "      <td>-0.09206</td>\n",
       "      <td>1.506520</td>\n",
       "      <td>...</td>\n",
       "      <td>-0.772241</td>\n",
       "      <td>-0.770432</td>\n",
       "      <td>-0.734843</td>\n",
       "      <td>-0.729416</td>\n",
       "      <td>-0.646129</td>\n",
       "      <td>-0.483938</td>\n",
       "      <td>-0.561861</td>\n",
       "      <td>-0.439822</td>\n",
       "      <td>-0.547331</td>\n",
       "      <td>-0.329588</td>\n",
       "    </tr>\n",
       "  </tbody>\n",
       "</table>\n",
       "<p>39506 rows × 28 columns</p>\n",
       "</div>"
      ],
      "text/plain": [
       "             ID  LIMIT_BAL     SEX_2  EDUCATION_1  EDUCATION_2  EDUCATION_3  \\\n",
       "0     -1.770685  -1.073396  0.967176    -0.796898     1.024343    -0.370260   \n",
       "1     -1.770566  -0.200239  0.967176    -0.796898     1.024343    -0.370260   \n",
       "2     -1.770448  -0.462186  0.967176    -0.796898     1.024343    -0.370260   \n",
       "3     -1.770329  -0.811449  0.967176    -0.796898     1.024343    -0.370260   \n",
       "4     -1.770211  -0.811449 -1.033938    -0.796898     1.024343    -0.370260   \n",
       "...         ...        ...       ...          ...          ...          ...   \n",
       "39501 -0.514334  -0.705464 -1.033938    -0.796898    -0.976235     2.700806   \n",
       "39502 -1.088882  -0.811449 -1.033938     1.254865    -0.976235    -0.370260   \n",
       "39503 -0.405776   0.241851  0.967176     1.254865    -0.976235    -0.370260   \n",
       "39504 -1.254207  -0.811449 -1.033938    -0.796898     1.024343    -0.370260   \n",
       "39505 -0.198735   0.847550  0.967176    -0.796898     1.024343    -0.370260   \n",
       "\n",
       "       EDUCATION_4  MARRIAGE_2  MARRIAGE_3       AGE  ...  BILL_AMT3  \\\n",
       "0        -0.052113   -0.893546    -0.09206 -1.300507  ...  -0.769911   \n",
       "1        -0.052113    1.119136    -0.09206 -1.066588  ...  -0.727307   \n",
       "2        -0.052113    1.119136    -0.09206 -0.130913  ...  -0.494794   \n",
       "3        -0.052113   -0.893546    -0.09206  0.219966  ...   0.269036   \n",
       "4        -0.052113   -0.893546    -0.09206  2.559155  ...  -0.018608   \n",
       "...            ...         ...         ...       ...  ...        ...   \n",
       "39501    -0.052113   -0.893546    -0.09206  0.687804  ...  -0.361173   \n",
       "39502    -0.052113   -0.893546    -0.09206 -1.066588  ...   0.239125   \n",
       "39503    -0.052113   -0.893546    -0.09206 -0.481791  ...   0.878245   \n",
       "39504    -0.052113   -0.893546    -0.09206 -0.949629  ...  -0.767693   \n",
       "39505    -0.052113   -0.893546    -0.09206  1.506520  ...  -0.772241   \n",
       "\n",
       "       BILL_AMT4  BILL_AMT5  BILL_AMT6  PAY_AMT1  PAY_AMT2  PAY_AMT3  \\\n",
       "0      -0.770381  -0.747324  -0.731520 -0.646129 -0.465573 -0.561861   \n",
       "1      -0.695572  -0.664682  -0.652460 -0.646129 -0.411812 -0.372823   \n",
       "2      -0.442725  -0.389778  -0.354546 -0.352832 -0.325380 -0.372823   \n",
       "3      -0.123024  -0.054644  -0.015175 -0.259703 -0.235664 -0.335015   \n",
       "4      -0.291620  -0.289364  -0.267703 -0.259703  5.756140  1.328523   \n",
       "...          ...        ...        ...       ...       ...       ...   \n",
       "39501  -0.759336  -0.732075  -0.418840  3.323505 -0.584676 -0.561861   \n",
       "39502   0.388216   0.444757   0.477392  0.081295 -0.555824  0.129441   \n",
       "39503   1.079288   1.263485   1.271349  0.060412 -0.033694  0.317120   \n",
       "39504  -0.768100  -0.742100  -0.730756 -0.163754 -0.445448 -0.503806   \n",
       "39505  -0.770432  -0.734843  -0.729416 -0.646129 -0.483938 -0.561861   \n",
       "\n",
       "       PAY_AMT4  PAY_AMT5  PAY_AMT6  \n",
       "0     -0.545576 -0.565809 -0.522514  \n",
       "1     -0.343751 -0.565809 -0.131366  \n",
       "2     -0.343751 -0.352887  0.455356  \n",
       "3     -0.323569 -0.338195 -0.326940  \n",
       "4      1.270846 -0.419105 -0.389720  \n",
       "...         ...       ...       ...  \n",
       "39501 -0.416914  2.151570  0.008984  \n",
       "39502 -0.513495  0.246959 -0.492981  \n",
       "39503  0.425533 -0.565809  0.103323  \n",
       "39504 -0.499132 -0.556010 -0.482010  \n",
       "39505 -0.439822 -0.547331 -0.329588  \n",
       "\n",
       "[39506 rows x 28 columns]"
      ]
     },
     "execution_count": 51,
     "metadata": {},
     "output_type": "execute_result"
    }
   ],
   "source": [
    "Xscaled= pd.DataFrame(Xscaled, columns=Xout.columns)\n",
    "Xscaled"
   ]
  },
  {
   "cell_type": "code",
   "execution_count": 52,
   "metadata": {},
   "outputs": [],
   "source": [
    "# Importing train test split\n",
    "from sklearn.model_selection import train_test_split"
   ]
  },
  {
   "cell_type": "code",
   "execution_count": 53,
   "metadata": {},
   "outputs": [],
   "source": [
    "X_train, X_test, y_train, y_test = train_test_split(Xscaled, yout, train_size=0.9, random_state=42)"
   ]
  },
  {
   "cell_type": "code",
   "execution_count": 54,
   "metadata": {},
   "outputs": [],
   "source": [
    "X_train2, X_valid, y_train2, y_valid = train_test_split(X_train, y_train, train_size=(8/9), random_state=42)"
   ]
  },
  {
   "cell_type": "code",
   "execution_count": 55,
   "metadata": {},
   "outputs": [
    {
     "name": "stderr",
     "output_type": "stream",
     "text": [
      "C:\\Users\\mayan\\anaconda3\\lib\\site-packages\\pandas\\core\\frame.py:3997: SettingWithCopyWarning: \n",
      "A value is trying to be set on a copy of a slice from a DataFrame\n",
      "\n",
      "See the caveats in the documentation: https://pandas.pydata.org/pandas-docs/stable/user_guide/indexing.html#returning-a-view-versus-a-copy\n",
      "  errors=errors,\n"
     ]
    }
   ],
   "source": [
    "# Since we don't need ID Column in our classifier. Let us drop it from all our X columns.\n",
    "X_train2.drop('ID', axis=1, inplace=True)\n",
    "X_valid.drop('ID', axis=1, inplace=True)\n",
    "X_test.drop('ID', axis=1, inplace=True)"
   ]
  },
  {
   "cell_type": "markdown",
   "metadata": {},
   "source": [
    "# Let us start Training the model on different classifier starting from basic to deep neural nets"
   ]
  },
  {
   "cell_type": "markdown",
   "metadata": {},
   "source": [
    "# Logistic Regression"
   ]
  },
  {
   "cell_type": "code",
   "execution_count": 56,
   "metadata": {},
   "outputs": [],
   "source": [
    "# Logistic Regression\n",
    "from sklearn.linear_model import LogisticRegression"
   ]
  },
  {
   "cell_type": "code",
   "execution_count": 57,
   "metadata": {},
   "outputs": [],
   "source": [
    "reg = LogisticRegression()\n",
    "reg.fit(X_train2, y_train2)\n",
    "model1 = reg.fit(X_train2, y_train2)\n"
   ]
  },
  {
   "cell_type": "code",
   "execution_count": 58,
   "metadata": {},
   "outputs": [
    {
     "data": {
      "text/plain": [
       "0.7594608277433237"
      ]
     },
     "execution_count": 58,
     "metadata": {},
     "output_type": "execute_result"
    }
   ],
   "source": [
    "# Now let us evaluate the model\n",
    "reg.score(X_train2, y_train2)"
   ]
  },
  {
   "cell_type": "code",
   "execution_count": 59,
   "metadata": {},
   "outputs": [
    {
     "data": {
      "text/plain": [
       "0.7643634522905594"
      ]
     },
     "execution_count": 59,
     "metadata": {},
     "output_type": "execute_result"
    }
   ],
   "source": [
    "# It has a training accuracy of 76.14 %. Let us check the validation and testing accuracy\n",
    "reg.score(X_valid, y_valid)"
   ]
  },
  {
   "cell_type": "code",
   "execution_count": 60,
   "metadata": {},
   "outputs": [
    {
     "data": {
      "text/plain": [
       "0.7636041508478866"
      ]
     },
     "execution_count": 60,
     "metadata": {},
     "output_type": "execute_result"
    }
   ],
   "source": [
    "reg.score(X_test, y_test)"
   ]
  },
  {
   "cell_type": "markdown",
   "metadata": {},
   "source": [
    "The accuracy of the model seems consistent but it seems low"
   ]
  },
  {
   "cell_type": "markdown",
   "metadata": {},
   "source": [
    "# K Neighbors Classifier"
   ]
  },
  {
   "cell_type": "code",
   "execution_count": 61,
   "metadata": {},
   "outputs": [],
   "source": [
    "# Now let us try K-Nearest Neighbours Classifier\n",
    "from sklearn.neighbors import KNeighborsClassifier"
   ]
  },
  {
   "cell_type": "code",
   "execution_count": 62,
   "metadata": {},
   "outputs": [],
   "source": [
    "knn = KNeighborsClassifier(5)\n",
    "model2 = knn.fit(X_train2, y_train2)"
   ]
  },
  {
   "cell_type": "code",
   "execution_count": 63,
   "metadata": {},
   "outputs": [
    {
     "data": {
      "text/plain": [
       "0.8611568155929629"
      ]
     },
     "execution_count": 63,
     "metadata": {},
     "output_type": "execute_result"
    }
   ],
   "source": [
    "model2.score(X_train2, y_train2)"
   ]
  },
  {
   "cell_type": "code",
   "execution_count": 64,
   "metadata": {},
   "outputs": [
    {
     "data": {
      "text/plain": [
       "0.7962541128828144"
      ]
     },
     "execution_count": 64,
     "metadata": {},
     "output_type": "execute_result"
    }
   ],
   "source": [
    "model2.score(X_valid, y_valid)"
   ]
  },
  {
   "cell_type": "code",
   "execution_count": 65,
   "metadata": {},
   "outputs": [
    {
     "data": {
      "text/plain": [
       "0.7891672994178689"
      ]
     },
     "execution_count": 65,
     "metadata": {},
     "output_type": "execute_result"
    }
   ],
   "source": [
    "model2.score(X_test, y_test)"
   ]
  },
  {
   "cell_type": "markdown",
   "metadata": {},
   "source": [
    "This model has an accuracy of 86% in training and 79-80% in testing and validation, which thought better than logistic regression is still now as good as it could be."
   ]
  },
  {
   "cell_type": "markdown",
   "metadata": {},
   "source": [
    "# Random Forest Classifier"
   ]
  },
  {
   "cell_type": "code",
   "execution_count": 66,
   "metadata": {},
   "outputs": [],
   "source": [
    "# Random Forest Classifier\n",
    "from sklearn.ensemble import RandomForestClassifier"
   ]
  },
  {
   "cell_type": "code",
   "execution_count": 67,
   "metadata": {},
   "outputs": [],
   "source": [
    "rfc = RandomForestClassifier(100)"
   ]
  },
  {
   "cell_type": "code",
   "execution_count": 68,
   "metadata": {},
   "outputs": [
    {
     "data": {
      "text/plain": [
       "RandomForestClassifier()"
      ]
     },
     "execution_count": 68,
     "metadata": {},
     "output_type": "execute_result"
    }
   ],
   "source": [
    "rfc.fit(X_train2, y_train2)"
   ]
  },
  {
   "cell_type": "code",
   "execution_count": 69,
   "metadata": {},
   "outputs": [
    {
     "data": {
      "text/plain": [
       "0.9995253765346158"
      ]
     },
     "execution_count": 69,
     "metadata": {},
     "output_type": "execute_result"
    }
   ],
   "source": [
    "rfc.score(X_train2, y_train2)"
   ]
  },
  {
   "cell_type": "code",
   "execution_count": 70,
   "metadata": {},
   "outputs": [
    {
     "data": {
      "text/plain": [
       "0.8607947355099975"
      ]
     },
     "execution_count": 70,
     "metadata": {},
     "output_type": "execute_result"
    }
   ],
   "source": [
    "rfc.score(X_valid, y_valid)"
   ]
  },
  {
   "cell_type": "code",
   "execution_count": 71,
   "metadata": {},
   "outputs": [
    {
     "data": {
      "text/plain": [
       "0.8633257403189066"
      ]
     },
     "execution_count": 71,
     "metadata": {},
     "output_type": "execute_result"
    }
   ],
   "source": [
    "rfc.score(X_test, y_test)"
   ]
  },
  {
   "cell_type": "markdown",
   "metadata": {},
   "source": [
    "The model using Random Forests heavily overfits with 99% train accuracy and 86-87% Validation and Testing Accuracy. So we would need to still look for other options."
   ]
  },
  {
   "cell_type": "markdown",
   "metadata": {},
   "source": [
    "# Gaussian Naive Bayes Classifier"
   ]
  },
  {
   "cell_type": "code",
   "execution_count": 72,
   "metadata": {},
   "outputs": [],
   "source": [
    "# Naive Bayes Classifier\n",
    "from sklearn.naive_bayes import GaussianNB"
   ]
  },
  {
   "cell_type": "code",
   "execution_count": 73,
   "metadata": {},
   "outputs": [],
   "source": [
    "nb = GaussianNB()"
   ]
  },
  {
   "cell_type": "code",
   "execution_count": 74,
   "metadata": {},
   "outputs": [
    {
     "data": {
      "text/plain": [
       "GaussianNB()"
      ]
     },
     "execution_count": 74,
     "metadata": {},
     "output_type": "execute_result"
    }
   ],
   "source": [
    "nb.fit(X_train2, y_train2)"
   ]
  },
  {
   "cell_type": "code",
   "execution_count": 75,
   "metadata": {},
   "outputs": [
    {
     "data": {
      "text/plain": [
       "0.6537463612200988"
      ]
     },
     "execution_count": 75,
     "metadata": {},
     "output_type": "execute_result"
    }
   ],
   "source": [
    "nb.score(X_train2, y_train2)"
   ]
  },
  {
   "cell_type": "markdown",
   "metadata": {},
   "source": [
    "The training accuracy itself of the gaussian naive bayes classifier is very poor."
   ]
  },
  {
   "cell_type": "markdown",
   "metadata": {},
   "source": [
    "# XGBoost Classifier"
   ]
  },
  {
   "cell_type": "code",
   "execution_count": 76,
   "metadata": {},
   "outputs": [],
   "source": [
    "from xgboost import XGBClassifier, XGBRFClassifier"
   ]
  },
  {
   "cell_type": "code",
   "execution_count": 77,
   "metadata": {},
   "outputs": [],
   "source": [
    "xgb = XGBClassifier()"
   ]
  },
  {
   "cell_type": "code",
   "execution_count": 78,
   "metadata": {},
   "outputs": [
    {
     "data": {
      "text/plain": [
       "XGBClassifier(base_score=0.5, booster='gbtree', colsample_bylevel=1,\n",
       "              colsample_bynode=1, colsample_bytree=1, gamma=0, gpu_id=-1,\n",
       "              importance_type='gain', interaction_constraints='',\n",
       "              learning_rate=0.300000012, max_delta_step=0, max_depth=6,\n",
       "              min_child_weight=1, missing=nan, monotone_constraints='()',\n",
       "              n_estimators=100, n_jobs=0, num_parallel_tree=1, random_state=0,\n",
       "              reg_alpha=0, reg_lambda=1, scale_pos_weight=1, subsample=1,\n",
       "              tree_method='exact', validate_parameters=1, verbosity=None)"
      ]
     },
     "execution_count": 78,
     "metadata": {},
     "output_type": "execute_result"
    }
   ],
   "source": [
    "xgb.fit(X_train2, y_train2)"
   ]
  },
  {
   "cell_type": "code",
   "execution_count": 79,
   "metadata": {},
   "outputs": [
    {
     "data": {
      "text/plain": [
       "0.9100746740918871"
      ]
     },
     "execution_count": 79,
     "metadata": {},
     "output_type": "execute_result"
    }
   ],
   "source": [
    "xgb.score(X_train2, y_train2)"
   ]
  },
  {
   "cell_type": "code",
   "execution_count": 80,
   "metadata": {},
   "outputs": [
    {
     "data": {
      "text/plain": [
       "0.8463680080992154"
      ]
     },
     "execution_count": 80,
     "metadata": {},
     "output_type": "execute_result"
    }
   ],
   "source": [
    "xgb.score(X_valid, y_valid)"
   ]
  },
  {
   "cell_type": "code",
   "execution_count": 81,
   "metadata": {},
   "outputs": [
    {
     "data": {
      "text/plain": [
       "0.8483928119463428"
      ]
     },
     "execution_count": 81,
     "metadata": {},
     "output_type": "execute_result"
    }
   ],
   "source": [
    "xgb.score(X_test, y_test)"
   ]
  },
  {
   "cell_type": "markdown",
   "metadata": {},
   "source": [
    "The scores are quite good for a non-Neural Network Classifier. Let us check out XGBRFC now"
   ]
  },
  {
   "cell_type": "markdown",
   "metadata": {},
   "source": [
    "# XGBRFClassifier"
   ]
  },
  {
   "cell_type": "code",
   "execution_count": 82,
   "metadata": {},
   "outputs": [],
   "source": [
    "xgbrfc = XGBRFClassifier()"
   ]
  },
  {
   "cell_type": "code",
   "execution_count": 83,
   "metadata": {},
   "outputs": [
    {
     "data": {
      "text/plain": [
       "XGBRFClassifier(base_score=0.5, booster='gbtree', colsample_bylevel=1,\n",
       "                colsample_bytree=1, gamma=0, gpu_id=-1, importance_type='gain',\n",
       "                interaction_constraints='', max_delta_step=0, max_depth=6,\n",
       "                min_child_weight=1, missing=nan, monotone_constraints='()',\n",
       "                n_estimators=100, n_jobs=0, num_parallel_tree=100,\n",
       "                objective='binary:logistic', random_state=0, reg_alpha=0,\n",
       "                scale_pos_weight=1, tree_method='exact', validate_parameters=1,\n",
       "                verbosity=None)"
      ]
     },
     "execution_count": 83,
     "metadata": {},
     "output_type": "execute_result"
    }
   ],
   "source": [
    "xgbrfc.fit(X_train2, y_train2)"
   ]
  },
  {
   "cell_type": "code",
   "execution_count": 84,
   "metadata": {},
   "outputs": [
    {
     "data": {
      "text/plain": [
       "0.8091697253512213"
      ]
     },
     "execution_count": 84,
     "metadata": {},
     "output_type": "execute_result"
    }
   ],
   "source": [
    "xgbrfc.score(X_train2, y_train2)"
   ]
  },
  {
   "cell_type": "markdown",
   "metadata": {},
   "source": [
    "This has a lower training accuracy itself so there wouldn't be much point checking the validation and testing accuracies."
   ]
  },
  {
   "cell_type": "markdown",
   "metadata": {},
   "source": [
    "# Gradient Boosting Classifier"
   ]
  },
  {
   "cell_type": "code",
   "execution_count": 85,
   "metadata": {},
   "outputs": [],
   "source": [
    "# Gradient Boosting Classifier\n",
    "from sklearn.ensemble import GradientBoostingClassifier"
   ]
  },
  {
   "cell_type": "code",
   "execution_count": 86,
   "metadata": {},
   "outputs": [],
   "source": [
    "gbm = GradientBoostingClassifier()"
   ]
  },
  {
   "cell_type": "code",
   "execution_count": 87,
   "metadata": {},
   "outputs": [
    {
     "data": {
      "text/plain": [
       "GradientBoostingClassifier()"
      ]
     },
     "execution_count": 87,
     "metadata": {},
     "output_type": "execute_result"
    }
   ],
   "source": [
    "gbm.fit(X_train2, y_train2)"
   ]
  },
  {
   "cell_type": "code",
   "execution_count": 88,
   "metadata": {},
   "outputs": [
    {
     "data": {
      "text/plain": [
       "0.8268573598278699"
      ]
     },
     "execution_count": 88,
     "metadata": {},
     "output_type": "execute_result"
    }
   ],
   "source": [
    "gbm.score(X_train2, y_train2)"
   ]
  },
  {
   "cell_type": "markdown",
   "metadata": {},
   "source": [
    "Here too the training accuracy was not as great. So till now the XGBClassifier seems most consistent and best model."
   ]
  },
  {
   "cell_type": "markdown",
   "metadata": {},
   "source": [
    "# Basic Deep Neural Network for Classification"
   ]
  },
  {
   "cell_type": "code",
   "execution_count": 89,
   "metadata": {},
   "outputs": [],
   "source": [
    "# Now let us try out neural networks\n",
    "from tensorflow.keras import Sequential\n",
    "from tensorflow.keras.layers import Dense, Dropout\n",
    "from tensorflow.keras.callbacks import EarlyStopping"
   ]
  },
  {
   "cell_type": "code",
   "execution_count": 90,
   "metadata": {},
   "outputs": [],
   "source": [
    "model = Sequential()"
   ]
  },
  {
   "cell_type": "code",
   "execution_count": 91,
   "metadata": {},
   "outputs": [],
   "source": [
    "input_size = 27\n",
    "\n",
    "model.add(Dense(input_size, activation='relu'))\n",
    "model.add(Dense(27, activation='relu'))\n",
    "\n",
    "model.add(Dense(14, activation='relu'))\n",
    "model.add(Dense(7, activation='relu'))\n",
    "\n",
    "model.add(Dense(1, activation='sigmoid'))"
   ]
  },
  {
   "cell_type": "code",
   "execution_count": 92,
   "metadata": {},
   "outputs": [],
   "source": [
    "model.compile(optimizer='adam', loss='binary_crossentropy', metrics=['accuracy'])"
   ]
  },
  {
   "cell_type": "code",
   "execution_count": 93,
   "metadata": {},
   "outputs": [],
   "source": [
    "batch_size = 10\n",
    "max_epochs = 1000\n",
    "early =EarlyStopping(patience=50)"
   ]
  },
  {
   "cell_type": "code",
   "execution_count": 94,
   "metadata": {},
   "outputs": [
    {
     "name": "stdout",
     "output_type": "stream",
     "text": [
      "Epoch 1/1000\n",
      "WARNING:tensorflow:Layer dense is casting an input tensor from dtype float64 to the layer's dtype of float32, which is new behavior in TensorFlow 2.  The layer has dtype float32 because it's dtype defaults to floatx.\n",
      "\n",
      "If you intended to run this layer in float32, you can safely ignore this warning. If in doubt, this warning is likely only an issue if you are porting a TensorFlow 1.X model to TensorFlow 2.\n",
      "\n",
      "To change all layers to have dtype float64 by default, call `tf.keras.backend.set_floatx('float64')`. To change just this layer, pass dtype='float64' to the layer constructor. If you are the author of this layer, you can disable autocasting by passing autocast=False to the base Layer constructor.\n",
      "\n",
      "3161/3161 - 7s - loss: 0.4950 - accuracy: 0.7680 - val_loss: 0.4572 - val_accuracy: 0.7907\n",
      "Epoch 2/1000\n",
      "3161/3161 - 6s - loss: 0.4414 - accuracy: 0.7942 - val_loss: 0.4257 - val_accuracy: 0.7975\n",
      "Epoch 3/1000\n",
      "3161/3161 - 6s - loss: 0.4206 - accuracy: 0.8034 - val_loss: 0.4223 - val_accuracy: 0.7998\n",
      "Epoch 4/1000\n",
      "3161/3161 - 6s - loss: 0.4096 - accuracy: 0.8064 - val_loss: 0.4153 - val_accuracy: 0.8079\n",
      "Epoch 5/1000\n",
      "3161/3161 - 6s - loss: 0.4045 - accuracy: 0.8119 - val_loss: 0.4138 - val_accuracy: 0.8069\n",
      "Epoch 6/1000\n",
      "3161/3161 - 6s - loss: 0.4000 - accuracy: 0.8122 - val_loss: 0.4013 - val_accuracy: 0.8125\n",
      "Epoch 7/1000\n",
      "3161/3161 - 6s - loss: 0.3947 - accuracy: 0.8151 - val_loss: 0.3946 - val_accuracy: 0.8140\n",
      "Epoch 8/1000\n",
      "3161/3161 - 6s - loss: 0.3921 - accuracy: 0.8153 - val_loss: 0.4004 - val_accuracy: 0.8155\n",
      "Epoch 9/1000\n",
      "3161/3161 - 7s - loss: 0.3890 - accuracy: 0.8179 - val_loss: 0.3910 - val_accuracy: 0.8162\n",
      "Epoch 10/1000\n",
      "3161/3161 - 7s - loss: 0.3874 - accuracy: 0.8172 - val_loss: 0.3869 - val_accuracy: 0.8127\n",
      "Epoch 11/1000\n",
      "3161/3161 - 7s - loss: 0.3846 - accuracy: 0.8200 - val_loss: 0.3932 - val_accuracy: 0.8175\n",
      "Epoch 12/1000\n",
      "3161/3161 - 6s - loss: 0.3818 - accuracy: 0.8184 - val_loss: 0.3895 - val_accuracy: 0.8190\n",
      "Epoch 13/1000\n",
      "3161/3161 - 6s - loss: 0.3800 - accuracy: 0.8217 - val_loss: 0.4089 - val_accuracy: 0.8193\n",
      "Epoch 14/1000\n",
      "3161/3161 - 6s - loss: 0.3793 - accuracy: 0.8216 - val_loss: 0.4018 - val_accuracy: 0.8178\n",
      "Epoch 15/1000\n",
      "3161/3161 - 6s - loss: 0.3782 - accuracy: 0.8224 - val_loss: 0.3849 - val_accuracy: 0.8193\n",
      "Epoch 16/1000\n",
      "3161/3161 - 6s - loss: 0.3771 - accuracy: 0.8217 - val_loss: 0.3814 - val_accuracy: 0.8223\n",
      "Epoch 17/1000\n",
      "3161/3161 - 6s - loss: 0.3755 - accuracy: 0.8229 - val_loss: 0.3861 - val_accuracy: 0.8175\n",
      "Epoch 18/1000\n",
      "3161/3161 - 6s - loss: 0.3752 - accuracy: 0.8238 - val_loss: 0.3927 - val_accuracy: 0.8206\n",
      "Epoch 19/1000\n",
      "3161/3161 - 6s - loss: 0.3734 - accuracy: 0.8224 - val_loss: 0.3995 - val_accuracy: 0.8173\n",
      "Epoch 20/1000\n",
      "3161/3161 - 6s - loss: 0.3734 - accuracy: 0.8236 - val_loss: 0.3852 - val_accuracy: 0.8228\n",
      "Epoch 21/1000\n",
      "3161/3161 - 6s - loss: 0.3720 - accuracy: 0.8248 - val_loss: 0.3859 - val_accuracy: 0.8213\n",
      "Epoch 22/1000\n",
      "3161/3161 - 6s - loss: 0.3714 - accuracy: 0.8241 - val_loss: 0.3853 - val_accuracy: 0.8170\n",
      "Epoch 23/1000\n",
      "3161/3161 - 6s - loss: 0.3709 - accuracy: 0.8260 - val_loss: 0.3790 - val_accuracy: 0.8226\n",
      "Epoch 24/1000\n",
      "3161/3161 - 6s - loss: 0.3693 - accuracy: 0.8244 - val_loss: 0.3942 - val_accuracy: 0.8188\n",
      "Epoch 25/1000\n",
      "3161/3161 - 6s - loss: 0.3688 - accuracy: 0.8268 - val_loss: 0.3851 - val_accuracy: 0.8206\n",
      "Epoch 26/1000\n",
      "3161/3161 - 6s - loss: 0.3682 - accuracy: 0.8264 - val_loss: 0.3834 - val_accuracy: 0.8198\n",
      "Epoch 27/1000\n",
      "3161/3161 - 6s - loss: 0.3673 - accuracy: 0.8272 - val_loss: 0.3814 - val_accuracy: 0.8243\n",
      "Epoch 28/1000\n",
      "3161/3161 - 6s - loss: 0.3683 - accuracy: 0.8260 - val_loss: 0.3824 - val_accuracy: 0.8233\n",
      "Epoch 29/1000\n",
      "3161/3161 - 6s - loss: 0.3662 - accuracy: 0.8261 - val_loss: 0.3880 - val_accuracy: 0.8236\n",
      "Epoch 30/1000\n",
      "3161/3161 - 6s - loss: 0.3654 - accuracy: 0.8271 - val_loss: 0.3901 - val_accuracy: 0.8200\n",
      "Epoch 31/1000\n",
      "3161/3161 - 6s - loss: 0.3644 - accuracy: 0.8284 - val_loss: 0.3794 - val_accuracy: 0.8254\n",
      "Epoch 32/1000\n",
      "3161/3161 - 6s - loss: 0.3635 - accuracy: 0.8283 - val_loss: 0.3810 - val_accuracy: 0.8218\n",
      "Epoch 33/1000\n",
      "3161/3161 - 6s - loss: 0.3637 - accuracy: 0.8287 - val_loss: 0.3825 - val_accuracy: 0.8195\n",
      "Epoch 34/1000\n",
      "3161/3161 - 6s - loss: 0.3639 - accuracy: 0.8298 - val_loss: 0.3789 - val_accuracy: 0.8266\n",
      "Epoch 35/1000\n",
      "3161/3161 - 6s - loss: 0.3623 - accuracy: 0.8298 - val_loss: 0.3755 - val_accuracy: 0.8281\n",
      "Epoch 36/1000\n",
      "3161/3161 - 6s - loss: 0.3620 - accuracy: 0.8283 - val_loss: 0.3825 - val_accuracy: 0.8246\n",
      "Epoch 37/1000\n",
      "3161/3161 - 6s - loss: 0.3610 - accuracy: 0.8307 - val_loss: 0.3758 - val_accuracy: 0.8223\n",
      "Epoch 38/1000\n",
      "3161/3161 - 7s - loss: 0.3612 - accuracy: 0.8292 - val_loss: 0.3785 - val_accuracy: 0.8218\n",
      "Epoch 39/1000\n",
      "3161/3161 - 6s - loss: 0.3593 - accuracy: 0.8299 - val_loss: 0.3879 - val_accuracy: 0.8228\n",
      "Epoch 40/1000\n",
      "3161/3161 - 6s - loss: 0.3594 - accuracy: 0.8289 - val_loss: 0.3847 - val_accuracy: 0.8243\n",
      "Epoch 41/1000\n",
      "3161/3161 - 6s - loss: 0.3591 - accuracy: 0.8309 - val_loss: 0.3817 - val_accuracy: 0.8261\n",
      "Epoch 42/1000\n",
      "3161/3161 - 6s - loss: 0.3590 - accuracy: 0.8313 - val_loss: 0.3797 - val_accuracy: 0.8238\n",
      "Epoch 43/1000\n",
      "3161/3161 - 6s - loss: 0.3575 - accuracy: 0.8319 - val_loss: 0.3854 - val_accuracy: 0.8223\n",
      "Epoch 44/1000\n",
      "3161/3161 - 6s - loss: 0.3570 - accuracy: 0.8324 - val_loss: 0.4032 - val_accuracy: 0.8233\n",
      "Epoch 45/1000\n",
      "3161/3161 - 6s - loss: 0.3572 - accuracy: 0.8331 - val_loss: 0.3852 - val_accuracy: 0.8226\n",
      "Epoch 46/1000\n",
      "3161/3161 - 7s - loss: 0.3559 - accuracy: 0.8324 - val_loss: 0.3929 - val_accuracy: 0.8160\n",
      "Epoch 47/1000\n",
      "3161/3161 - 6s - loss: 0.3557 - accuracy: 0.8332 - val_loss: 0.3942 - val_accuracy: 0.8200\n",
      "Epoch 48/1000\n",
      "3161/3161 - 6s - loss: 0.3548 - accuracy: 0.8323 - val_loss: 0.3930 - val_accuracy: 0.8185\n",
      "Epoch 49/1000\n",
      "3161/3161 - 6s - loss: 0.3557 - accuracy: 0.8317 - val_loss: 0.3828 - val_accuracy: 0.8168\n",
      "Epoch 50/1000\n",
      "3161/3161 - 6s - loss: 0.3544 - accuracy: 0.8323 - val_loss: 0.3971 - val_accuracy: 0.8211\n",
      "Epoch 51/1000\n",
      "3161/3161 - 6s - loss: 0.3544 - accuracy: 0.8326 - val_loss: 0.3863 - val_accuracy: 0.8200\n",
      "Epoch 52/1000\n",
      "3161/3161 - 6s - loss: 0.3522 - accuracy: 0.8340 - val_loss: 0.3956 - val_accuracy: 0.8213\n",
      "Epoch 53/1000\n",
      "3161/3161 - 6s - loss: 0.3537 - accuracy: 0.8326 - val_loss: 0.3874 - val_accuracy: 0.8246\n",
      "Epoch 54/1000\n",
      "3161/3161 - 6s - loss: 0.3524 - accuracy: 0.8343 - val_loss: 0.3861 - val_accuracy: 0.8243\n",
      "Epoch 55/1000\n",
      "3161/3161 - 6s - loss: 0.3527 - accuracy: 0.8336 - val_loss: 0.3963 - val_accuracy: 0.8221\n",
      "Epoch 56/1000\n",
      "3161/3161 - 7s - loss: 0.3521 - accuracy: 0.8339 - val_loss: 0.3916 - val_accuracy: 0.8249\n",
      "Epoch 57/1000\n",
      "3161/3161 - 7s - loss: 0.3509 - accuracy: 0.8343 - val_loss: 0.3890 - val_accuracy: 0.8226\n",
      "Epoch 58/1000\n",
      "3161/3161 - 7s - loss: 0.3509 - accuracy: 0.8362 - val_loss: 0.3871 - val_accuracy: 0.8223\n",
      "Epoch 59/1000\n",
      "3161/3161 - 6s - loss: 0.3496 - accuracy: 0.8354 - val_loss: 0.3871 - val_accuracy: 0.8241\n",
      "Epoch 60/1000\n",
      "3161/3161 - 6s - loss: 0.3504 - accuracy: 0.8345 - val_loss: 0.3916 - val_accuracy: 0.8213\n",
      "Epoch 61/1000\n",
      "3161/3161 - 6s - loss: 0.3496 - accuracy: 0.8350 - val_loss: 0.3884 - val_accuracy: 0.8228\n",
      "Epoch 62/1000\n",
      "3161/3161 - 6s - loss: 0.3495 - accuracy: 0.8359 - val_loss: 0.4013 - val_accuracy: 0.8223\n",
      "Epoch 63/1000\n",
      "3161/3161 - 6s - loss: 0.3494 - accuracy: 0.8352 - val_loss: 0.3940 - val_accuracy: 0.8213\n",
      "Epoch 64/1000\n",
      "3161/3161 - 6s - loss: 0.3491 - accuracy: 0.8353 - val_loss: 0.3906 - val_accuracy: 0.8223\n",
      "Epoch 65/1000\n",
      "3161/3161 - 6s - loss: 0.3483 - accuracy: 0.8355 - val_loss: 0.4142 - val_accuracy: 0.8198\n",
      "Epoch 66/1000\n",
      "3161/3161 - 6s - loss: 0.3481 - accuracy: 0.8357 - val_loss: 0.3913 - val_accuracy: 0.8228\n",
      "Epoch 67/1000\n",
      "3161/3161 - 6s - loss: 0.3466 - accuracy: 0.8363 - val_loss: 0.3927 - val_accuracy: 0.8206\n",
      "Epoch 68/1000\n",
      "3161/3161 - 6s - loss: 0.3463 - accuracy: 0.8368 - val_loss: 0.3969 - val_accuracy: 0.8233\n",
      "Epoch 69/1000\n",
      "3161/3161 - 6s - loss: 0.3457 - accuracy: 0.8380 - val_loss: 0.4028 - val_accuracy: 0.8216\n",
      "Epoch 70/1000\n",
      "3161/3161 - 6s - loss: 0.3472 - accuracy: 0.8372 - val_loss: 0.3895 - val_accuracy: 0.8264\n",
      "Epoch 71/1000\n",
      "3161/3161 - 6s - loss: 0.3468 - accuracy: 0.8370 - val_loss: 0.3941 - val_accuracy: 0.8243\n",
      "Epoch 72/1000\n",
      "3161/3161 - 6s - loss: 0.3457 - accuracy: 0.8379 - val_loss: 0.4072 - val_accuracy: 0.8208\n"
     ]
    },
    {
     "name": "stdout",
     "output_type": "stream",
     "text": [
      "Epoch 73/1000\n",
      "3161/3161 - 6s - loss: 0.3454 - accuracy: 0.8387 - val_loss: 0.3915 - val_accuracy: 0.8241\n",
      "Epoch 74/1000\n",
      "3161/3161 - 6s - loss: 0.3449 - accuracy: 0.8381 - val_loss: 0.4006 - val_accuracy: 0.8238\n",
      "Epoch 75/1000\n",
      "3161/3161 - 6s - loss: 0.3449 - accuracy: 0.8372 - val_loss: 0.3965 - val_accuracy: 0.8251\n",
      "Epoch 76/1000\n",
      "3161/3161 - 6s - loss: 0.3449 - accuracy: 0.8390 - val_loss: 0.3949 - val_accuracy: 0.8284\n",
      "Epoch 77/1000\n",
      "3161/3161 - 6s - loss: 0.3441 - accuracy: 0.8375 - val_loss: 0.3993 - val_accuracy: 0.8203\n",
      "Epoch 78/1000\n",
      "3161/3161 - 6s - loss: 0.3447 - accuracy: 0.8388 - val_loss: 0.4020 - val_accuracy: 0.8180\n",
      "Epoch 79/1000\n",
      "3161/3161 - 6s - loss: 0.3435 - accuracy: 0.8377 - val_loss: 0.4133 - val_accuracy: 0.8223\n",
      "Epoch 80/1000\n",
      "3161/3161 - 6s - loss: 0.3433 - accuracy: 0.8393 - val_loss: 0.3968 - val_accuracy: 0.8261\n",
      "Epoch 81/1000\n",
      "3161/3161 - 6s - loss: 0.3444 - accuracy: 0.8374 - val_loss: 0.4225 - val_accuracy: 0.8170\n",
      "Epoch 82/1000\n",
      "3161/3161 - 6s - loss: 0.3433 - accuracy: 0.8382 - val_loss: 0.3921 - val_accuracy: 0.8236\n",
      "Epoch 83/1000\n",
      "3161/3161 - 6s - loss: 0.3432 - accuracy: 0.8379 - val_loss: 0.3949 - val_accuracy: 0.8264\n",
      "Epoch 84/1000\n",
      "3161/3161 - 6s - loss: 0.3433 - accuracy: 0.8378 - val_loss: 0.4100 - val_accuracy: 0.8254\n",
      "Epoch 85/1000\n",
      "3161/3161 - 6s - loss: 0.3420 - accuracy: 0.8379 - val_loss: 0.4017 - val_accuracy: 0.8243\n"
     ]
    },
    {
     "data": {
      "text/plain": [
       "<tensorflow.python.keras.callbacks.History at 0x134c328c088>"
      ]
     },
     "execution_count": 94,
     "metadata": {},
     "output_type": "execute_result"
    }
   ],
   "source": [
    "model.fit(X_train2, y_train2, batch_size=batch_size, epochs=max_epochs, callbacks=[early], validation_data=(X_valid, y_valid), verbose=2)"
   ]
  },
  {
   "cell_type": "code",
   "execution_count": 95,
   "metadata": {},
   "outputs": [
    {
     "name": "stdout",
     "output_type": "stream",
     "text": [
      "WARNING:tensorflow:From <ipython-input-95-ebad1c15c533>:1: Sequential.predict_classes (from tensorflow.python.keras.engine.sequential) is deprecated and will be removed after 2021-01-01.\n",
      "Instructions for updating:\n",
      "Please use instead:* `np.argmax(model.predict(x), axis=-1)`,   if your model does multi-class classification   (e.g. if it uses a `softmax` last-layer activation).* `(model.predict(x) > 0.5).astype(\"int32\")`,   if your model does binary classification   (e.g. if it uses a `sigmoid` last-layer activation).\n"
     ]
    }
   ],
   "source": [
    "predmodel = model.predict_classes(X_train2)"
   ]
  },
  {
   "cell_type": "code",
   "execution_count": 96,
   "metadata": {},
   "outputs": [],
   "source": [
    "from sklearn.metrics import classification_report, confusion_matrix"
   ]
  },
  {
   "cell_type": "code",
   "execution_count": 97,
   "metadata": {},
   "outputs": [
    {
     "name": "stdout",
     "output_type": "stream",
     "text": [
      "              precision    recall  f1-score   support\n",
      "\n",
      "           0       0.81      0.90      0.85     15803\n",
      "           1       0.89      0.78      0.83     15801\n",
      "\n",
      "    accuracy                           0.84     31604\n",
      "   macro avg       0.85      0.84      0.84     31604\n",
      "weighted avg       0.85      0.84      0.84     31604\n",
      "\n"
     ]
    }
   ],
   "source": [
    "print(classification_report(y_train2, predmodel))"
   ]
  },
  {
   "cell_type": "code",
   "execution_count": 98,
   "metadata": {},
   "outputs": [],
   "source": [
    "predvalid = model.predict_classes(X_valid)"
   ]
  },
  {
   "cell_type": "code",
   "execution_count": 99,
   "metadata": {},
   "outputs": [
    {
     "name": "stdout",
     "output_type": "stream",
     "text": [
      "              precision    recall  f1-score   support\n",
      "\n",
      "           0       0.78      0.89      0.83      1936\n",
      "           1       0.88      0.76      0.81      2015\n",
      "\n",
      "    accuracy                           0.82      3951\n",
      "   macro avg       0.83      0.83      0.82      3951\n",
      "weighted avg       0.83      0.82      0.82      3951\n",
      "\n"
     ]
    }
   ],
   "source": [
    "print(classification_report(y_valid, predvalid))"
   ]
  },
  {
   "cell_type": "code",
   "execution_count": 100,
   "metadata": {},
   "outputs": [],
   "source": [
    "predtest = model.predict_classes(X_test)"
   ]
  },
  {
   "cell_type": "code",
   "execution_count": 119,
   "metadata": {},
   "outputs": [
    {
     "name": "stdout",
     "output_type": "stream",
     "text": [
      "              precision    recall  f1-score   support\n",
      "\n",
      "           0       0.79      0.88      0.83      2014\n",
      "           1       0.86      0.76      0.80      1937\n",
      "\n",
      "    accuracy                           0.82      3951\n",
      "   macro avg       0.82      0.82      0.82      3951\n",
      "weighted avg       0.82      0.82      0.82      3951\n",
      "\n"
     ]
    }
   ],
   "source": [
    "print(classification_report(y_test, predtest))"
   ]
  },
  {
   "cell_type": "markdown",
   "metadata": {},
   "source": [
    "so the xgboost model seems best till now in terms of accuracy. Lets check its classification report and confusion matrix as well."
   ]
  },
  {
   "cell_type": "code",
   "execution_count": 102,
   "metadata": {},
   "outputs": [],
   "source": [
    "predtrainxgb = xgb.predict(X_train2)\n",
    "predvalxgb = xgb.predict(X_valid)\n",
    "predtestxgb = xgb.predict(X_test)\n"
   ]
  },
  {
   "cell_type": "code",
   "execution_count": 103,
   "metadata": {
    "scrolled": true
   },
   "outputs": [
    {
     "name": "stdout",
     "output_type": "stream",
     "text": [
      "              precision    recall  f1-score   support\n",
      "\n",
      "           0       0.82      0.90      0.86      2014\n",
      "           1       0.88      0.80      0.84      1937\n",
      "\n",
      "    accuracy                           0.85      3951\n",
      "   macro avg       0.85      0.85      0.85      3951\n",
      "weighted avg       0.85      0.85      0.85      3951\n",
      "\n"
     ]
    }
   ],
   "source": [
    "print(classification_report(y_test, predtestxgb))"
   ]
  },
  {
   "cell_type": "code",
   "execution_count": 104,
   "metadata": {
    "scrolled": true
   },
   "outputs": [
    {
     "name": "stdout",
     "output_type": "stream",
     "text": [
      "              precision    recall  f1-score   support\n",
      "\n",
      "           0       0.81      0.90      0.85      1936\n",
      "           1       0.89      0.80      0.84      2015\n",
      "\n",
      "    accuracy                           0.85      3951\n",
      "   macro avg       0.85      0.85      0.85      3951\n",
      "weighted avg       0.85      0.85      0.85      3951\n",
      "\n"
     ]
    }
   ],
   "source": [
    "print(classification_report(y_valid, predvalxgb))"
   ]
  },
  {
   "cell_type": "code",
   "execution_count": 105,
   "metadata": {},
   "outputs": [
    {
     "name": "stdout",
     "output_type": "stream",
     "text": [
      "              precision    recall  f1-score   support\n",
      "\n",
      "           0       0.88      0.95      0.91     15803\n",
      "           1       0.95      0.87      0.91     15801\n",
      "\n",
      "    accuracy                           0.91     31604\n",
      "   macro avg       0.91      0.91      0.91     31604\n",
      "weighted avg       0.91      0.91      0.91     31604\n",
      "\n"
     ]
    }
   ],
   "source": [
    "print(classification_report(y_train2, predtrainxgb))"
   ]
  },
  {
   "cell_type": "code",
   "execution_count": 106,
   "metadata": {},
   "outputs": [],
   "source": [
    "# checking rfc\n",
    "predtrainrfc = rfc.predict(X_train2)\n",
    "predvalrfc = rfc.predict(X_valid)\n",
    "predtestrfc = rfc.predict(X_test)"
   ]
  },
  {
   "cell_type": "code",
   "execution_count": 107,
   "metadata": {},
   "outputs": [
    {
     "name": "stdout",
     "output_type": "stream",
     "text": [
      "              precision    recall  f1-score   support\n",
      "\n",
      "           0       1.00      1.00      1.00     15803\n",
      "           1       1.00      1.00      1.00     15801\n",
      "\n",
      "    accuracy                           1.00     31604\n",
      "   macro avg       1.00      1.00      1.00     31604\n",
      "weighted avg       1.00      1.00      1.00     31604\n",
      "\n"
     ]
    }
   ],
   "source": [
    "print(classification_report(y_train2, predtrainrfc))"
   ]
  },
  {
   "cell_type": "code",
   "execution_count": 108,
   "metadata": {},
   "outputs": [
    {
     "name": "stdout",
     "output_type": "stream",
     "text": [
      "              precision    recall  f1-score   support\n",
      "\n",
      "           0       0.82      0.91      0.87      1936\n",
      "           1       0.91      0.81      0.86      2015\n",
      "\n",
      "    accuracy                           0.86      3951\n",
      "   macro avg       0.86      0.86      0.86      3951\n",
      "weighted avg       0.87      0.86      0.86      3951\n",
      "\n"
     ]
    }
   ],
   "source": [
    "# 100 % train accuracy seems rather wrong. but let's check validation and test\n",
    "print(classification_report(y_valid, predvalrfc))"
   ]
  },
  {
   "cell_type": "code",
   "execution_count": 109,
   "metadata": {},
   "outputs": [
    {
     "name": "stdout",
     "output_type": "stream",
     "text": [
      "              precision    recall  f1-score   support\n",
      "\n",
      "           0       0.84      0.91      0.87      2014\n",
      "           1       0.89      0.82      0.85      1937\n",
      "\n",
      "    accuracy                           0.86      3951\n",
      "   macro avg       0.87      0.86      0.86      3951\n",
      "weighted avg       0.87      0.86      0.86      3951\n",
      "\n"
     ]
    }
   ],
   "source": [
    "print(classification_report(y_test, predtestrfc))"
   ]
  },
  {
   "cell_type": "markdown",
   "metadata": {},
   "source": [
    "Though Random Forest fits the training data perfectly and provides an f1-score and accuracy both similar to xgboost classifier, but the XGBClassifier is more consistent with less overfitting being observed and hence can be considered here as the best available model in this scenario."
   ]
  }
 ],
 "metadata": {
  "kernelspec": {
   "display_name": "Python 3",
   "language": "python",
   "name": "python3"
  },
  "language_info": {
   "codemirror_mode": {
    "name": "ipython",
    "version": 3
   },
   "file_extension": ".py",
   "mimetype": "text/x-python",
   "name": "python",
   "nbconvert_exporter": "python",
   "pygments_lexer": "ipython3",
   "version": "3.7.6"
  }
 },
 "nbformat": 4,
 "nbformat_minor": 4
}
